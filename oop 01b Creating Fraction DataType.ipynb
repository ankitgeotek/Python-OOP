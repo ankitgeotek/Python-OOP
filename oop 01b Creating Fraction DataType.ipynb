{
 "cells": [
  {
   "cell_type": "markdown",
   "metadata": {},
   "source": [
    "# Fraction\n",
    "Fraction are datatype written in the form Numerator/Denomenator"
   ]
  },
  {
   "cell_type": "code",
   "execution_count": 75,
   "metadata": {},
   "outputs": [
    {
     "data": {
      "text/plain": [
       "0.375"
      ]
     },
     "execution_count": 75,
     "metadata": {},
     "output_type": "execute_result"
    }
   ],
   "source": [
    "3/4*1/2"
   ]
  },
  {
   "cell_type": "code",
   "execution_count": 76,
   "metadata": {},
   "outputs": [],
   "source": [
    "class Fraction:\n",
    "    #parameterized Constructor- Constructor which need input while creation\n",
    "    def __init__(self,x,y):\n",
    "        self.num=x\n",
    "        self.den=y\n",
    "\n",
    "\n",
    "    # when python tries to print object pyhton will access __str__ magic fn and print return of it\n",
    "    def __str__(self) -> str:\n",
    "        return f'{self.num}/{self.den}'\n",
    "    \n",
    "\n",
    "    # It will automatically executed when by put + between two objects of same class\n",
    "    def __add__(self,other):\n",
    "        new_num= self.num*other.den+self.den*other.num\n",
    "        new_den= self.den*other.den\n",
    "\n",
    "        return f'{new_num}/{new_den}'\n",
    "\n",
    "    # It will automatically executed when by put - between two objects of same class\n",
    "    def __sub__(self,other):\n",
    "        new_num= self.num*other.den-self.den*other.num\n",
    "        new_den= self.den*other.den\n",
    "\n",
    "        return f'{new_num}/{new_den}'\n",
    "    \n",
    "    # It will automatically executed when by put * between two objects of same class\n",
    "    def __mul__(self,other):\n",
    "        new_num= self.num*other.num\n",
    "        new_den= self.den*other.den\n",
    "\n",
    "        return f'{new_num}/{new_den}'\n",
    "    \n",
    "        # It will automatically executed when by put / between two objects of same class\n",
    "    def __truediv__(self,other):\n",
    "        new_num= self.num*other.den\n",
    "        new_den= self.den*other.num\n",
    "\n",
    "        return f'{new_num}/{new_den}'\n",
    "    \n",
    "\n",
    "    def convert_to_decimal(self):\n",
    "        return self.num/self.den"
   ]
  },
  {
   "cell_type": "code",
   "execution_count": 77,
   "metadata": {},
   "outputs": [
    {
     "data": {
      "text/plain": [
       "\"\\nthis will give error:\\n                    Fraction.__init__() missing 2 required positional arguments: 'x' and 'y'\\n                    as paraterized constructor need input while creation on object.\\n\""
      ]
     },
     "execution_count": 77,
     "metadata": {},
     "output_type": "execute_result"
    }
   ],
   "source": [
    "#fr1=Fraction()\n",
    "\n",
    "'''\n",
    "this will give error:\n",
    "                    Fraction.__init__() missing 2 required positional arguments: 'x' and 'y'\n",
    "                    as paraterized constructor need input while creation on object.\n",
    "'''\n"
   ]
  },
  {
   "cell_type": "code",
   "execution_count": 78,
   "metadata": {},
   "outputs": [],
   "source": [
    "fr1=Fraction(3,4)\n",
    "fr2=Fraction(1,2)"
   ]
  },
  {
   "cell_type": "code",
   "execution_count": 79,
   "metadata": {},
   "outputs": [
    {
     "name": "stdout",
     "output_type": "stream",
     "text": [
      "<class '__main__.Fraction'>\n"
     ]
    }
   ],
   "source": [
    "print(type(fr1))"
   ]
  },
  {
   "cell_type": "code",
   "execution_count": 80,
   "metadata": {},
   "outputs": [
    {
     "name": "stdout",
     "output_type": "stream",
     "text": [
      "3/4\n"
     ]
    }
   ],
   "source": [
    "print(fr1)"
   ]
  },
  {
   "cell_type": "code",
   "execution_count": 81,
   "metadata": {},
   "outputs": [
    {
     "name": "stdout",
     "output_type": "stream",
     "text": [
      "10/8\n",
      "2/8\n",
      "3/8\n",
      "6/4\n"
     ]
    }
   ],
   "source": [
    "print(fr1 + fr2)\n",
    "print(fr1-fr2)\n",
    "print(fr1*fr2)\n",
    "print(fr1/fr2)"
   ]
  },
  {
   "cell_type": "code",
   "execution_count": 82,
   "metadata": {},
   "outputs": [
    {
     "data": {
      "text/plain": [
       "0.75"
      ]
     },
     "execution_count": 82,
     "metadata": {},
     "output_type": "execute_result"
    }
   ],
   "source": [
    "fr1.convert_to_decimal()"
   ]
  },
  {
   "cell_type": "code",
   "execution_count": null,
   "metadata": {},
   "outputs": [],
   "source": []
  }
 ],
 "metadata": {
  "kernelspec": {
   "display_name": "Python 3",
   "language": "python",
   "name": "python3"
  },
  "language_info": {
   "codemirror_mode": {
    "name": "ipython",
    "version": 3
   },
   "file_extension": ".py",
   "mimetype": "text/x-python",
   "name": "python",
   "nbconvert_exporter": "python",
   "pygments_lexer": "ipython3",
   "version": "3.11.4"
  },
  "orig_nbformat": 4
 },
 "nbformat": 4,
 "nbformat_minor": 2
}
