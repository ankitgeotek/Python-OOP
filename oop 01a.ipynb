{
 "cells": [
  {
   "cell_type": "code",
   "execution_count": 1,
   "metadata": {},
   "outputs": [],
   "source": [
    "L=[1,2,3]"
   ]
  },
  {
   "cell_type": "code",
   "execution_count": 2,
   "metadata": {},
   "outputs": [],
   "source": [
    "# L.upper()"
   ]
  },
  {
   "cell_type": "code",
   "execution_count": 3,
   "metadata": {},
   "outputs": [],
   "source": [
    "s= 'hello'\n",
    "# s.append('x')"
   ]
  },
  {
   "cell_type": "code",
   "execution_count": 4,
   "metadata": {},
   "outputs": [
    {
     "name": "stdout",
     "output_type": "stream",
     "text": [
      "<class 'list'>\n"
     ]
    }
   ],
   "source": [
    "print(type(L))"
   ]
  },
  {
   "cell_type": "markdown",
   "metadata": {},
   "source": [
    "Classes- Set of Rules that object follows\n"
   ]
  },
  {
   "cell_type": "code",
   "execution_count": 5,
   "metadata": {},
   "outputs": [],
   "source": [
    "#stntax to create an object\n",
    "# objectName=className()"
   ]
  },
  {
   "cell_type": "code",
   "execution_count": 6,
   "metadata": {},
   "outputs": [
    {
     "data": {
      "text/plain": [
       "[1, 2, 3]"
      ]
     },
     "execution_count": 6,
     "metadata": {},
     "output_type": "execute_result"
    }
   ],
   "source": [
    "# object Literal\n",
    "l=[1,2,3]\n",
    "l"
   ]
  },
  {
   "cell_type": "code",
   "execution_count": 7,
   "metadata": {},
   "outputs": [
    {
     "data": {
      "text/plain": [
       "[]"
      ]
     },
     "execution_count": 7,
     "metadata": {},
     "output_type": "execute_result"
    }
   ],
   "source": [
    "l=list()\n",
    "l"
   ]
  },
  {
   "cell_type": "code",
   "execution_count": 8,
   "metadata": {},
   "outputs": [
    {
     "data": {
      "text/plain": [
       "''"
      ]
     },
     "execution_count": 8,
     "metadata": {},
     "output_type": "execute_result"
    }
   ],
   "source": [
    "s=str()\n",
    "s"
   ]
  },
  {
   "cell_type": "markdown",
   "metadata": {},
   "source": [
    "# Constructor\n",
    "Syntax to create class\n",
    "1- write 'class' keyword\n",
    "2-specify name of class in pascalcase-HelloWorld,AnkitKumar\n",
    "\n",
    "constructor- Afunction inside the class, Cunstructor function will be executed automatically as soon the object is created for that class. Hence we do not need to explicitly call cunstructor function\n",
    "constructor looks like==>  \n",
    "        def __init__(self) -> None:\n",
    "            pass\n",
    "\n",
    "Rules to create variables inside the class\n",
    "1-variables inside the class are created inside the __init__ constructor\n",
    "2-we should write self. in the prefix of variable name\n"
   ]
  },
  {
   "cell_type": "markdown",
   "metadata": {},
   "source": [
    "# Methods\n",
    "In OOP Function inside a class is not called function here it is called Method.\n",
    "\n",
    "Function outside a class(i.e- independent of class) in called Fuction"
   ]
  },
  {
   "cell_type": "code",
   "execution_count": 9,
   "metadata": {},
   "outputs": [],
   "source": [
    "class Atm:\n",
    "\n",
    "\n",
    "\n",
    "    def __init__(self) -> None:\n",
    "        self.pin=''\n",
    "        self.balance=0\n",
    "        print('cunstrutor got executed')\n",
    "        self.menu()\n",
    "\n",
    "\n",
    "    def menu(self):\n",
    "        user_input=int(input('''\n",
    "        Hi how can I help you \\n\n",
    "        1. Press 1 to create a Pin \\n\n",
    "        2. Press 2 to Change the Pin \\n\n",
    "        3. Press 3 to check balance\\n\n",
    "        4. Press 4 to withdraw\\n\n",
    "        5. Press 5 to Exit\n",
    "                        '''))\n",
    "\n",
    "        if user_input==1:\n",
    "            self.create_pin()\n",
    "        elif user_input==2:\n",
    "            self.change_pin()\n",
    "        elif user_input==3:\n",
    "            self.check_balance()\n",
    "        elif user_input==4:\n",
    "            self.withdraw()\n",
    "        elif user_input==5:\n",
    "            pass\n",
    "        else:\n",
    "            exit()\n",
    "\n",
    "    def create_pin(self):\n",
    "        user_pin=int(input('Enter Four Digit Pin'))\n",
    "        self.pin=user_pin\n",
    "        user_bal=int(input(\"Enter your balance\"))\n",
    "        self.balance=int(user_bal)\n",
    "\n",
    "        print('Pin created Successfull')\n",
    "        # print('Your Remaining Balance is',self.balance)\n",
    "\n",
    "        self.menu()\n",
    "\n",
    "    def change_pin(self):\n",
    "        old_pin=int(input('Enter Old Pin'))\n",
    "        if old_pin==self.pin:\n",
    "            #let him change the pin\n",
    "            new_pin=int(input('Enter the New Pin'))\n",
    "            self.pin=new_pin\n",
    "\n",
    "            print('Pin Changed Successfully')\n",
    "        \n",
    "        else:\n",
    "            print('You have entered the wrong pin')\n",
    "        \n",
    "        self.menu()\n",
    "\n",
    "\n",
    "\n",
    "    def check_balance(self):\n",
    "        user_pin=int(input(\"Enter your Pin\"))\n",
    "        if user_pin==self.pin:\n",
    "            print('Your remaining balance is: ',self.balance)\n",
    "        else:\n",
    "            print(\"You have entered a wrong pin\")\n",
    "\n",
    "        \n",
    "        self.menu()\n",
    "\n",
    "    def withdraw(self):\n",
    "        user_pin=int(input(\"Enter your Pin\"))\n",
    "        if user_pin==self.pin:\n",
    "            withdrawal_amount=int(input(\"Enter the Amount\"))\n",
    "            if withdrawal_amount<=self.balance:\n",
    "                self.balance=self.balance-withdrawal_amount\n",
    "                print('Withdrawl Successful')\n",
    "                print('remaining balance is ',self.balance)\n",
    "        \n",
    "        else:\n",
    "            print(\"Your Balance amount is Low\")\n",
    "        \n",
    "        self.menu()        \n",
    "    \n",
    "\n",
    "        \n",
    "    "
   ]
  },
  {
   "cell_type": "code",
   "execution_count": 12,
   "metadata": {},
   "outputs": [
    {
     "name": "stdout",
     "output_type": "stream",
     "text": [
      "cunstrutor got executed\n",
      "Pin created Successfull\n",
      "You have entered a wrong pin\n",
      "Withdrawl Successful\n",
      "remaining balance is  9000\n",
      "Your Balance amount is Low\n"
     ]
    }
   ],
   "source": [
    "obj=Atm()"
   ]
  },
  {
   "cell_type": "code",
   "execution_count": 11,
   "metadata": {},
   "outputs": [],
   "source": [
    "L=[1,2,3]\n",
    "len(L) #here len is a function, as it is independent of list class\n",
    "L.append(4) #here append in a method, as it is implemented inside list class"
   ]
  }
 ],
 "metadata": {
  "kernelspec": {
   "display_name": "Python 3",
   "language": "python",
   "name": "python3"
  },
  "language_info": {
   "codemirror_mode": {
    "name": "ipython",
    "version": 3
   },
   "file_extension": ".py",
   "mimetype": "text/x-python",
   "name": "python",
   "nbconvert_exporter": "python",
   "pygments_lexer": "ipython3",
   "version": "3.11.4"
  },
  "orig_nbformat": 4
 },
 "nbformat": 4,
 "nbformat_minor": 2
}
