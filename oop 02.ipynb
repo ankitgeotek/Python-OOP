{
  "cells": [
    {
      "cell_type": "markdown",
      "metadata": {
        "id": "JUmWTebLbjwN"
      },
      "source": [
        "### Write OOP classes to handle the following scenarios:\n",
        "\n",
        "- A user can create and view 2D coordinates\n",
        "- A user can find out the distance between 2 coordinates\n",
        "- A user can find find the distance of a coordinate from origin\n",
        "- A user can check if a point lies on a given line\n",
        "- A user can find the distance between a given 2D point and a given line\n",
        "\n"
      ]
    },
    {
      "cell_type": "code",
      "execution_count": 1,
      "metadata": {},
      "outputs": [],
      "source": [
        "class Point:\n",
        "    def __init__(self,x,y):\n",
        "        self.cord_x=x\n",
        "        self.cord_y=y\n",
        "\n",
        "    def __str__(self):\n",
        "        return f'<{self.cord_x},{self.cord_y}>'\n",
        "\n",
        "    def euclidian_distance(self,other):\n",
        "        return ((self.cord_x-other.cord_x)**2 + (self.cord_y-other.cord_y)**2)**0.5\n",
        "\n",
        "    def distance_from_origin(self):\n",
        "        return self.euclidian_distance(Point(0,0)) #In this syntex we are making object of a class inside the same class\n",
        "     \n",
        "    \n",
        "        # return ((self.cord_x)**2 + (self.cord_y)**2)**0.5\n",
        "\n",
        "    def point_on_line(self):\n",
        "        pass\n",
        "\n",
        "\n",
        "\n",
        "class Line:\n",
        "    def __init__(self,A,B,C):\n",
        "        self.A=A\n",
        "        self.B=B\n",
        "        self.C=C\n",
        "        \n",
        "    def __str__(self) -> str:\n",
        "        return f'{self.A}x+{self.B}y+{self.C}=0'\n",
        "    \n",
        "    def point_on_line(line,point):\n",
        "        if line.A*point.cord_x+line.B*point.cord_y+line.C == 0:\n",
        "            return \"Point Lies on line\"\n",
        "        else:\n",
        "            return 'Point does not lies on line'\n",
        "        \n",
        "    def shortest_distance(line,point):\n",
        "        return abs(line.A*point.cord_x+line.B*point.cord_y+line.C)/(((line.A**2)+(line.B)**2)**0.5)\n",
        "    \n",
        "    def line_intersect(line1,line2):\n",
        "        m1=-(line1.A/line1.B)\n",
        "        m2=-(line2.A/line2.B)\n",
        "\n",
        "        if m1==m2:\n",
        "            return 'Line will not intersect'\n",
        "        else:\n",
        "            return 'Line will intersect'\n",
        "\n",
        "\n",
        "         \n"
      ]
    },
    {
      "cell_type": "code",
      "execution_count": 2,
      "metadata": {},
      "outputs": [],
      "source": [
        "p1=Point(0,0)\n",
        "p2=Point(10,10)"
      ]
    },
    {
      "cell_type": "code",
      "execution_count": 3,
      "metadata": {},
      "outputs": [
        {
          "name": "stdout",
          "output_type": "stream",
          "text": [
            "<0,0>\n",
            "<10,10>\n"
          ]
        }
      ],
      "source": [
        "print(p1)\n",
        "print(p2)"
      ]
    },
    {
      "cell_type": "code",
      "execution_count": 4,
      "metadata": {},
      "outputs": [
        {
          "data": {
            "text/plain": [
              "14.142135623730951"
            ]
          },
          "execution_count": 4,
          "metadata": {},
          "output_type": "execute_result"
        }
      ],
      "source": [
        "p1.euclidian_distance(p2)"
      ]
    },
    {
      "cell_type": "code",
      "execution_count": 5,
      "metadata": {},
      "outputs": [
        {
          "data": {
            "text/plain": [
              "14.142135623730951"
            ]
          },
          "execution_count": 5,
          "metadata": {},
          "output_type": "execute_result"
        }
      ],
      "source": [
        "p2.distance_from_origin()"
      ]
    },
    {
      "cell_type": "code",
      "execution_count": 6,
      "metadata": {},
      "outputs": [
        {
          "name": "stdout",
          "output_type": "stream",
          "text": [
            "3x+4y+5=0\n"
          ]
        }
      ],
      "source": [
        "l1=Line(3,4,5)\n",
        "print(l1)"
      ]
    },
    {
      "cell_type": "code",
      "execution_count": 7,
      "metadata": {},
      "outputs": [
        {
          "name": "stdout",
          "output_type": "stream",
          "text": [
            "-1x+1y+-2=0\n",
            "<0,2>\n"
          ]
        },
        {
          "data": {
            "text/plain": [
              "'Point Lies on line'"
            ]
          },
          "execution_count": 7,
          "metadata": {},
          "output_type": "execute_result"
        }
      ],
      "source": [
        "l1=Line(-1,1,-2)\n",
        "p1=Point(0,2)\n",
        "print(l1)\n",
        "print(p1)\n",
        "\n",
        "l1.point_on_line(p1)\n"
      ]
    },
    {
      "cell_type": "code",
      "execution_count": 8,
      "metadata": {},
      "outputs": [
        {
          "data": {
            "text/plain": [
              "0.0"
            ]
          },
          "execution_count": 8,
          "metadata": {},
          "output_type": "execute_result"
        }
      ],
      "source": [
        "l1.shortest_distance(p1)"
      ]
    },
    {
      "cell_type": "code",
      "execution_count": 9,
      "metadata": {},
      "outputs": [
        {
          "data": {
            "text/plain": [
              "1.414213562373095"
            ]
          },
          "execution_count": 9,
          "metadata": {},
          "output_type": "execute_result"
        }
      ],
      "source": [
        "l1.shortest_distance(p2)"
      ]
    },
    {
      "cell_type": "code",
      "execution_count": 10,
      "metadata": {},
      "outputs": [],
      "source": [
        "l1=Line(4,7,8)\n",
        "l2=Line(8,14,16)\n",
        "l3=Line(7,8,9)"
      ]
    },
    {
      "cell_type": "code",
      "execution_count": 11,
      "metadata": {},
      "outputs": [
        {
          "data": {
            "text/plain": [
              "'Line will not intersect'"
            ]
          },
          "execution_count": 11,
          "metadata": {},
          "output_type": "execute_result"
        }
      ],
      "source": [
        "l1.line_intersect(l2)"
      ]
    },
    {
      "cell_type": "code",
      "execution_count": 12,
      "metadata": {},
      "outputs": [
        {
          "data": {
            "text/plain": [
              "'Line will intersect'"
            ]
          },
          "execution_count": 12,
          "metadata": {},
          "output_type": "execute_result"
        }
      ],
      "source": [
        "l2.line_intersect(l3)"
      ]
    },
    {
      "cell_type": "code",
      "execution_count": 13,
      "metadata": {},
      "outputs": [
        {
          "data": {
            "text/plain": [
              "'Line will intersect'"
            ]
          },
          "execution_count": 13,
          "metadata": {},
          "output_type": "execute_result"
        }
      ],
      "source": [
        "l1.line_intersect(l3)"
      ]
    },
    {
      "cell_type": "markdown",
      "metadata": {
        "id": "s6n-PpwgfiMv"
      },
      "source": [
        "### How objects access attributes"
      ]
    },
    {
      "cell_type": "code",
      "execution_count": 14,
      "metadata": {
        "id": "XUwz5NX3fl3p"
      },
      "outputs": [],
      "source": [
        "class Person:\n",
        "\n",
        "  def __init__(self,name_input,country_input):\n",
        "    self.name = name_input\n",
        "    self.country = country_input\n",
        "\n",
        "  def greet(self):\n",
        "    if self.country == 'india':\n",
        "      print('Namaste',self.name)\n",
        "    else:\n",
        "      print('Hello',self.name)\n"
      ]
    },
    {
      "cell_type": "code",
      "execution_count": 15,
      "metadata": {
        "id": "Eb_wD7mkh-sK"
      },
      "outputs": [],
      "source": [
        "# how to access attributes\n",
        "p=Person('Ankit',\"india\")"
      ]
    },
    {
      "cell_type": "code",
      "execution_count": 16,
      "metadata": {},
      "outputs": [
        {
          "data": {
            "text/plain": [
              "'Ankit'"
            ]
          },
          "execution_count": 16,
          "metadata": {},
          "output_type": "execute_result"
        }
      ],
      "source": [
        "p.name"
      ]
    },
    {
      "cell_type": "code",
      "execution_count": 17,
      "metadata": {
        "colab": {
          "base_uri": "https://localhost:8080/",
          "height": 36
        },
        "id": "R_zixc-yD2z8",
        "outputId": "18dcea56-fe39-4214-b3cc-483d2fb32ff2"
      },
      "outputs": [
        {
          "data": {
            "text/plain": [
              "'india'"
            ]
          },
          "execution_count": 17,
          "metadata": {},
          "output_type": "execute_result"
        }
      ],
      "source": [
        "p.country"
      ]
    },
    {
      "cell_type": "code",
      "execution_count": 18,
      "metadata": {
        "colab": {
          "base_uri": "https://localhost:8080/"
        },
        "id": "FVenvmOViFN5",
        "outputId": "e6638bef-33c0-46fb-dd70-5896e27d8b7f"
      },
      "outputs": [
        {
          "name": "stdout",
          "output_type": "stream",
          "text": [
            "Namaste Ankit\n"
          ]
        }
      ],
      "source": [
        "# how to access methods\n",
        "p.greet()"
      ]
    },
    {
      "cell_type": "code",
      "execution_count": 19,
      "metadata": {
        "colab": {
          "base_uri": "https://localhost:8080/",
          "height": 187
        },
        "id": "LyBkKlAviG-x",
        "outputId": "66fd0bf4-9d2e-4d3b-d0fd-3d3593849d25"
      },
      "outputs": [
        {
          "ename": "AttributeError",
          "evalue": "'Person' object has no attribute 'gender'",
          "output_type": "error",
          "traceback": [
            "\u001b[1;31m---------------------------------------------------------------------------\u001b[0m",
            "\u001b[1;31mAttributeError\u001b[0m                            Traceback (most recent call last)",
            "\u001b[1;32ma:\\Work Docs\\Data Analyst work\\Campus X\\08 Python OOP\\03 oop session 2 .ipynb Cell 21\u001b[0m line \u001b[0;36m2\n\u001b[0;32m      <a href='vscode-notebook-cell:/a%3A/Work%20Docs/Data%20Analyst%20work/Campus%20X/08%20Python%20OOP/03%20oop%20session%202%20.ipynb#X11sZmlsZQ%3D%3D?line=0'>1</a>\u001b[0m \u001b[39m# what if i try to access non-existent attributes\u001b[39;00m\n\u001b[1;32m----> <a href='vscode-notebook-cell:/a%3A/Work%20Docs/Data%20Analyst%20work/Campus%20X/08%20Python%20OOP/03%20oop%20session%202%20.ipynb#X11sZmlsZQ%3D%3D?line=1'>2</a>\u001b[0m p\u001b[39m.\u001b[39;49mgender\n",
            "\u001b[1;31mAttributeError\u001b[0m: 'Person' object has no attribute 'gender'"
          ]
        }
      ],
      "source": [
        "# what if i try to access non-existent attributes\n",
        "p.gender"
      ]
    },
    {
      "cell_type": "markdown",
      "metadata": {
        "id": "gFxMl3Gpfmq-"
      },
      "source": [
        "### Attribute creation from outside of the class"
      ]
    },
    {
      "cell_type": "code",
      "execution_count": null,
      "metadata": {
        "id": "Ab2M4VwRfp6G"
      },
      "outputs": [],
      "source": [
        "p.gender = 'male'"
      ]
    },
    {
      "cell_type": "code",
      "execution_count": null,
      "metadata": {
        "colab": {
          "base_uri": "https://localhost:8080/",
          "height": 36
        },
        "id": "YquKhn88NXEZ",
        "outputId": "2d07e3aa-14d3-4016-cba2-8de3ac9c1fa5"
      },
      "outputs": [
        {
          "data": {
            "text/plain": [
              "'male'"
            ]
          },
          "execution_count": 83,
          "metadata": {},
          "output_type": "execute_result"
        }
      ],
      "source": [
        "p.gender"
      ]
    },
    {
      "cell_type": "markdown",
      "metadata": {
        "id": "s26UEjp6fqjn"
      },
      "source": [
        "### Reference Variables\n",
        "\n",
        "- Reference variables hold the objects\n",
        "- We can create objects without reference variable as well\n",
        "- An object can have multiple reference variables\n",
        "- Assigning a new reference variable to an existing object does not create a new object"
      ]
    },
    {
      "cell_type": "code",
      "execution_count": 20,
      "metadata": {
        "id": "FAoqeNdQfsrB"
      },
      "outputs": [],
      "source": [
        "# object without a reference\n",
        "class Person:\n",
        "\n",
        "  def __init__(self):\n",
        "    self.name = 'nitish'\n",
        "    self.gender = 'male'\n",
        "\n",
        "# p = Person()\n",
        "p=Person()\n",
        "q=p\n"
      ]
    },
    {
      "cell_type": "code",
      "execution_count": 21,
      "metadata": {
        "colab": {
          "base_uri": "https://localhost:8080/"
        },
        "id": "oaJcQhkRfuGP",
        "outputId": "c0561a5e-f2d7-4e24-c8b1-5ec0a3a52372"
      },
      "outputs": [
        {
          "name": "stdout",
          "output_type": "stream",
          "text": [
            "1659481874704\n",
            "1659481874704\n"
          ]
        }
      ],
      "source": [
        "# Multiple ref\n",
        "print(id(p))\n",
        "print(id(q))"
      ]
    },
    {
      "cell_type": "code",
      "execution_count": 22,
      "metadata": {},
      "outputs": [
        {
          "name": "stdout",
          "output_type": "stream",
          "text": [
            "nitish\n",
            "nitish\n"
          ]
        }
      ],
      "source": [
        "print(p.name)\n",
        "print(q.name)"
      ]
    },
    {
      "cell_type": "code",
      "execution_count": 23,
      "metadata": {},
      "outputs": [
        {
          "name": "stdout",
          "output_type": "stream",
          "text": [
            "Ankit\n",
            "Ankit\n"
          ]
        }
      ],
      "source": [
        "q.name=\"Ankit\"\n",
        "print(p.name)\n",
        "print(q.name)"
      ]
    },
    {
      "cell_type": "markdown",
      "metadata": {
        "id": "4nqDJqJvfukO"
      },
      "source": [
        "### Pass by reference"
      ]
    },
    {
      "cell_type": "code",
      "execution_count": 28,
      "metadata": {
        "colab": {
          "base_uri": "https://localhost:8080/"
        },
        "id": "noYvRkMmfwMl",
        "outputId": "2e61b55e-133c-4f15-9dc4-c29a416658d9"
      },
      "outputs": [
        {
          "name": "stdout",
          "output_type": "stream",
          "text": [
            "Hi my name is Ankit and I and a Male\n",
            "Niketa\n",
            "Female\n"
          ]
        }
      ],
      "source": [
        "class Person:\n",
        "\n",
        "  def __init__(self,name,gender):\n",
        "    self.name = name\n",
        "    self.gender = gender\n",
        "\n",
        "# outside the class -> function\n",
        "def greet(person):\n",
        "  print(f'Hi my name is {person.name} and I and a {person.gender}')\n",
        "  p1=Person('Niketa','Female')\n",
        "  return p1\n",
        "\n",
        "\n",
        "p=Person(\"Ankit\",\"Male\")\n",
        "\n",
        "x=greet(p)\n",
        "\n",
        "print(x.name)\n",
        "print(x.gender)"
      ]
    },
    {
      "cell_type": "code",
      "execution_count": null,
      "metadata": {
        "colab": {
          "base_uri": "https://localhost:8080/"
        },
        "id": "8ddbyX3hHryA",
        "outputId": "b902e987-9199-4637-c88c-ca5154bf31bb"
      },
      "outputs": [
        {
          "name": "stdout",
          "output_type": "stream",
          "text": [
            "140655538334288\n",
            "140655538334288\n",
            "ankit\n",
            "ankit\n"
          ]
        }
      ],
      "source": [
        "class Person:\n",
        "\n",
        "  def __init__(self,name,gender):\n",
        "    self.name = name\n",
        "    self.gender = gender\n",
        "\n",
        "# outside the class -> function\n",
        "def greet(person):\n",
        "  print(id(person))\n",
        "  person.name = 'ankit'\n",
        "  print(person.name)\n",
        "\n",
        "p = Person('nitish','male')\n",
        "print(id(p))\n",
        "greet(p)\n",
        "print(p.name)"
      ]
    },
    {
      "cell_type": "markdown",
      "metadata": {
        "id": "gRNNs9_DFvud"
      },
      "source": [
        "### Object ki mutability"
      ]
    },
    {
      "cell_type": "code",
      "execution_count": null,
      "metadata": {
        "colab": {
          "base_uri": "https://localhost:8080/"
        },
        "id": "GcBsQGR_Fy5E",
        "outputId": "e1048f8e-45c0-4ff0-8a2b-78578b81f23b"
      },
      "outputs": [
        {
          "name": "stdout",
          "output_type": "stream",
          "text": [
            "140655555218960\n",
            "140655555218960\n"
          ]
        }
      ],
      "source": [
        "class Person:\n",
        "\n",
        "  def __init__(self,name,gender):\n",
        "    self.name = name\n",
        "    self.gender = gender\n",
        "\n",
        "# outside the class -> function\n",
        "def greet(person):\n",
        "  person.name = 'ankit'\n",
        "  return person\n",
        "\n",
        "p = Person('nitish','male')\n",
        "print(id(p))\n",
        "p1 = greet(p)\n",
        "print(id(p1))"
      ]
    },
    {
      "cell_type": "markdown",
      "metadata": {
        "id": "A2Opzki1fw7x"
      },
      "source": [
        "### Encapsulation"
      ]
    },
    {
      "cell_type": "code",
      "execution_count": 31,
      "metadata": {
        "id": "yLRvYq47fyvp"
      },
      "outputs": [],
      "source": [
        "# instance var -> python tutor\n",
        "class Person:\n",
        "    def __init__(self,name,country) -> None:\n",
        "        self.name=name\n",
        "        self.country=country\n",
        "        #name and country are instance variable \n",
        "        #instance variable are variable whose values are different for different obeject\n",
        "\n",
        "p1=Person('Nitesh','India')\n",
        "p2=Person('Steav','Canada')"
      ]
    },
    {
      "cell_type": "code",
      "execution_count": 33,
      "metadata": {
        "colab": {
          "base_uri": "https://localhost:8080/",
          "height": 36
        },
        "id": "myBJr2T_KZmL",
        "outputId": "98f717d2-c600-43fa-c6ba-012f518d0490"
      },
      "outputs": [
        {
          "data": {
            "text/plain": [
              "'Steav'"
            ]
          },
          "execution_count": 33,
          "metadata": {},
          "output_type": "execute_result"
        }
      ],
      "source": [
        "p2.name"
      ]
    },
    {
      "cell_type": "code",
      "execution_count": 37,
      "metadata": {
        "id": "HRV0i93nzBtZ"
      },
      "outputs": [],
      "source": [
        "class Atm:\n",
        "\n",
        "  # constructor(special function)->superpower ->\n",
        "  def __init__(self):\n",
        "    print(id(self))\n",
        "    self.pin = ''\n",
        "    self.__balance = 0\n",
        "    #self.menu()\n",
        "\n",
        "  def get_balance(self):\n",
        "    return self.__balance\n",
        "\n",
        "  def set_balance(self,new_value):\n",
        "    if type(new_value) == int:\n",
        "      self.__balance = new_value\n",
        "    else:\n",
        "      print('beta bahot maarenge')\n",
        "\n",
        "  def __menu(self):\n",
        "    user_input = input(\"\"\"\n",
        "    Hi how can I help you?\n",
        "    1. Press 1 to create pin\n",
        "    2. Press 2 to change pin\n",
        "    3. Press 3 to check balance\n",
        "    4. Press 4 to withdraw\n",
        "    5. Anything else to exit\n",
        "    \"\"\")\n",
        "\n",
        "    if user_input == '1':\n",
        "      self.create_pin()\n",
        "    elif user_input == '2':\n",
        "      self.change_pin()\n",
        "    elif user_input == '3':\n",
        "      self.check_balance()\n",
        "    elif user_input == '4':\n",
        "      self.withdraw()\n",
        "    else:\n",
        "      exit()\n",
        "\n",
        "  def create_pin(self):\n",
        "    user_pin = input('enter your pin')\n",
        "    self.pin = user_pin\n",
        "\n",
        "    user_balance = int(input('enter balance'))\n",
        "    self.__balance = user_balance\n",
        "\n",
        "    print('pin created successfully')\n",
        "\n",
        "  def change_pin(self):\n",
        "    old_pin = input('enter old pin')\n",
        "\n",
        "    if old_pin == self.pin:\n",
        "      # let him change the pin\n",
        "      new_pin = input('enter new pin')\n",
        "      self.pin = new_pin\n",
        "      print('pin change successful')\n",
        "    else:\n",
        "      print('nai karne de sakta re baba')\n",
        "\n",
        "  def check_balance(self):\n",
        "    user_pin = input('enter your pin')\n",
        "    if user_pin == self.pin:\n",
        "      print('your balance is ',self.__balance)\n",
        "    else:\n",
        "      print('chal nikal yahan se')\n",
        "\n",
        "  def withdraw(self):\n",
        "    user_pin = input('enter the pin')\n",
        "    if user_pin == self.pin:\n",
        "      # allow to withdraw\n",
        "      amount = int(input('enter the amount'))\n",
        "      if amount <= self.__balance:\n",
        "        self.__balance = self.__balance - amount\n",
        "        print('withdrawl successful.balance is',self.__balance)\n",
        "      else:\n",
        "        print('abe garib')\n",
        "    else:\n",
        "      print('sale chor')"
      ]
    },
    {
      "cell_type": "code",
      "execution_count": 38,
      "metadata": {
        "colab": {
          "base_uri": "https://localhost:8080/"
        },
        "id": "L_5IBTO_LaFO",
        "outputId": "f3e1ac11-942e-4324-b471-d5e9f295fa9c"
      },
      "outputs": [
        {
          "name": "stdout",
          "output_type": "stream",
          "text": [
            "1659481888016\n"
          ]
        }
      ],
      "source": [
        "obj = Atm()"
      ]
    },
    {
      "cell_type": "code",
      "execution_count": 39,
      "metadata": {},
      "outputs": [],
      "source": [
        "obj.__balance='hehe'"
      ]
    },
    {
      "cell_type": "code",
      "execution_count": 46,
      "metadata": {},
      "outputs": [
        {
          "name": "stdout",
          "output_type": "stream",
          "text": [
            "pin created successfully\n"
          ]
        }
      ],
      "source": [
        "obj.create_pin()\n",
        "obj.__balance='hehe'"
      ]
    },
    {
      "cell_type": "code",
      "execution_count": 47,
      "metadata": {},
      "outputs": [
        {
          "name": "stdout",
          "output_type": "stream",
          "text": [
            "withdrawl successful.balance is 9900\n"
          ]
        }
      ],
      "source": [
        "obj.withdraw()"
      ]
    },
    {
      "cell_type": "code",
      "execution_count": 50,
      "metadata": {
        "colab": {
          "base_uri": "https://localhost:8080/"
        },
        "id": "2k4gY5HlLtdE",
        "outputId": "c37806fc-228d-43ab-fa1c-3d3a021666b7"
      },
      "outputs": [
        {
          "data": {
            "text/plain": [
              "1000"
            ]
          },
          "execution_count": 50,
          "metadata": {},
          "output_type": "execute_result"
        }
      ],
      "source": [
        "obj.get_balance()"
      ]
    },
    {
      "cell_type": "code",
      "execution_count": 49,
      "metadata": {
        "id": "OEDXxBISQeH-"
      },
      "outputs": [],
      "source": [
        "obj.set_balance(1000)"
      ]
    },
    {
      "cell_type": "code",
      "execution_count": null,
      "metadata": {
        "colab": {
          "base_uri": "https://localhost:8080/",
          "height": 330
        },
        "id": "MIOrnSeLL4Gi",
        "outputId": "928252c3-ae3b-42ed-fe0c-11e1e6ed7b08"
      },
      "outputs": [
        {
          "name": "stdout",
          "output_type": "stream",
          "text": [
            "enter the pin\n",
            "enter the amount5000\n"
          ]
        },
        {
          "ename": "TypeError",
          "evalue": "ignored",
          "output_type": "error",
          "traceback": [
            "\u001b[0;31m---------------------------------------------------------------------------\u001b[0m",
            "\u001b[0;31mTypeError\u001b[0m                                 Traceback (most recent call last)",
            "\u001b[0;32m<ipython-input-93-826ea677aa70>\u001b[0m in \u001b[0;36m<module>\u001b[0;34m\u001b[0m\n\u001b[0;32m----> 1\u001b[0;31m \u001b[0mobj\u001b[0m\u001b[0;34m.\u001b[0m\u001b[0mwithdraw\u001b[0m\u001b[0;34m(\u001b[0m\u001b[0;34m)\u001b[0m\u001b[0;34m\u001b[0m\u001b[0;34m\u001b[0m\u001b[0m\n\u001b[0m",
            "\u001b[0;32m<ipython-input-86-f5bffac7e2a0>\u001b[0m in \u001b[0;36mwithdraw\u001b[0;34m(self)\u001b[0m\n\u001b[1;32m     67\u001b[0m       \u001b[0;31m# allow to withdraw\u001b[0m\u001b[0;34m\u001b[0m\u001b[0;34m\u001b[0m\u001b[0;34m\u001b[0m\u001b[0m\n\u001b[1;32m     68\u001b[0m       \u001b[0mamount\u001b[0m \u001b[0;34m=\u001b[0m \u001b[0mint\u001b[0m\u001b[0;34m(\u001b[0m\u001b[0minput\u001b[0m\u001b[0;34m(\u001b[0m\u001b[0;34m'enter the amount'\u001b[0m\u001b[0;34m)\u001b[0m\u001b[0;34m)\u001b[0m\u001b[0;34m\u001b[0m\u001b[0;34m\u001b[0m\u001b[0m\n\u001b[0;32m---> 69\u001b[0;31m       \u001b[0;32mif\u001b[0m \u001b[0mamount\u001b[0m \u001b[0;34m<=\u001b[0m \u001b[0mself\u001b[0m\u001b[0;34m.\u001b[0m\u001b[0m__balance\u001b[0m\u001b[0;34m:\u001b[0m\u001b[0;34m\u001b[0m\u001b[0;34m\u001b[0m\u001b[0m\n\u001b[0m\u001b[1;32m     70\u001b[0m         \u001b[0mself\u001b[0m\u001b[0;34m.\u001b[0m\u001b[0m__balance\u001b[0m \u001b[0;34m=\u001b[0m \u001b[0mself\u001b[0m\u001b[0;34m.\u001b[0m\u001b[0m__balance\u001b[0m \u001b[0;34m-\u001b[0m \u001b[0mamount\u001b[0m\u001b[0;34m\u001b[0m\u001b[0;34m\u001b[0m\u001b[0m\n\u001b[1;32m     71\u001b[0m         \u001b[0mprint\u001b[0m\u001b[0;34m(\u001b[0m\u001b[0;34m'withdrawl successful.balance is'\u001b[0m\u001b[0;34m,\u001b[0m\u001b[0mself\u001b[0m\u001b[0;34m.\u001b[0m\u001b[0m__balance\u001b[0m\u001b[0;34m)\u001b[0m\u001b[0;34m\u001b[0m\u001b[0;34m\u001b[0m\u001b[0m\n",
            "\u001b[0;31mTypeError\u001b[0m: '<=' not supported between instances of 'int' and 'str'"
          ]
        }
      ],
      "source": [
        "obj.withdraw()"
      ]
    },
    {
      "cell_type": "markdown",
      "metadata": {
        "id": "2zN_yVYaf0_1"
      },
      "source": [
        "### Collection of objects"
      ]
    },
    {
      "cell_type": "code",
      "execution_count": 53,
      "metadata": {
        "id": "UN7FByT3LZSX"
      },
      "outputs": [
        {
          "name": "stdout",
          "output_type": "stream",
          "text": [
            "[<__main__.Person object at 0x0000018260D86090>, <__main__.Person object at 0x0000018260D87BD0>, <__main__.Person object at 0x0000018260D87A50>]\n"
          ]
        }
      ],
      "source": [
        "# list of objects\n",
        "class Person:\n",
        "\n",
        "  def __init__(self,name,gender):\n",
        "    self.name = name\n",
        "    self.gender = gender\n",
        "\n",
        "p1=Person('Nitesh','Male')\n",
        "p2=Person('Ankit','Male')\n",
        "p3=Person('Ankita','Female')\n",
        "\n",
        "L=[p1,p2,p3]\n",
        "print(L)"
      ]
    },
    {
      "cell_type": "code",
      "execution_count": 54,
      "metadata": {},
      "outputs": [
        {
          "name": "stdout",
          "output_type": "stream",
          "text": [
            "Nitesh\n",
            "Ankit\n",
            "Ankita\n"
          ]
        }
      ],
      "source": [
        "for i in L:\n",
        "    print(i.name)"
      ]
    },
    {
      "cell_type": "code",
      "execution_count": 57,
      "metadata": {},
      "outputs": [
        {
          "name": "stdout",
          "output_type": "stream",
          "text": [
            "Nitesh\n",
            "Ankit\n",
            "Ankita\n"
          ]
        }
      ],
      "source": [
        "d={'p1':p1,'p2':p2,'p3':p3}\n",
        "\n",
        "for i in d:\n",
        "    print(d[i].name)"
      ]
    },
    {
      "cell_type": "markdown",
      "metadata": {
        "id": "TKdM9xIFf8Lt"
      },
      "source": [
        "### Static Variables(Vs Instance variables)"
      ]
    },
    {
      "cell_type": "code",
      "execution_count": null,
      "metadata": {
        "id": "yQakCFqbf-kB"
      },
      "outputs": [],
      "source": [
        "# need for static vars\n",
        "\n"
      ]
    },
    {
      "cell_type": "code",
      "execution_count": 70,
      "metadata": {
        "id": "5HYjBHv9wZNm"
      },
      "outputs": [],
      "source": [
        "class Atm:\n",
        "\n",
        "  __counter = 1\n",
        "\n",
        "\n",
        "  # constructor(special function)->superpower ->\n",
        "  def __init__(self):\n",
        "    print(id(self))\n",
        "    self.pin = ''\n",
        "    self.__balance = 0\n",
        "\n",
        "    self.cid = Atm.__counter\n",
        "    Atm.__counter +=1\n",
        "\n",
        "\n",
        "    #self.menu()\n",
        "\n",
        "  # utility functions\n",
        "  @staticmethod\n",
        "  def get_counter():\n",
        "    return Atm.__counter\n",
        "\n",
        "\n",
        "  def get_balance(self):\n",
        "    return self.__balance\n",
        "\n",
        "  def set_balance(self,new_value):\n",
        "    if type(new_value) == int:\n",
        "      self.__balance = new_value\n",
        "    else:\n",
        "      print('beta bahot maarenge')\n",
        "\n",
        "  def __menu(self):\n",
        "    user_input = input(\"\"\"\n",
        "    Hi how can I help you?\n",
        "    1. Press 1 to create pin\n",
        "    2. Press 2 to change pin\n",
        "    3. Press 3 to check balance\n",
        "    4. Press 4 to withdraw\n",
        "    5. Anything else to exit\n",
        "    \"\"\")\n",
        "\n",
        "    if user_input == '1':\n",
        "      self.create_pin()\n",
        "    elif user_input == '2':\n",
        "      self.change_pin()\n",
        "    elif user_input == '3':\n",
        "      self.check_balance()\n",
        "    elif user_input == '4':\n",
        "      self.withdraw()\n",
        "    else:\n",
        "      exit()\n",
        "\n",
        "  def create_pin(self):\n",
        "    user_pin = input('enter your pin')\n",
        "    self.pin = user_pin\n",
        "\n",
        "    user_balance = int(input('enter balance'))\n",
        "    self.__balance = user_balance\n",
        "\n",
        "    print('pin created successfully')\n",
        "\n",
        "  def change_pin(self):\n",
        "    old_pin = input('enter old pin')\n",
        "\n",
        "    if old_pin == self.pin:\n",
        "      # let him change the pin\n",
        "      new_pin = input('enter new pin')\n",
        "      self.pin = new_pin\n",
        "      print('pin change successful')\n",
        "    else:\n",
        "      print('nai karne de sakta re baba')\n",
        "\n",
        "  def check_balance(self):\n",
        "    user_pin = input('enter your pin')\n",
        "    if user_pin == self.pin:\n",
        "      print('your balance is ',self.__balance)\n",
        "    else:\n",
        "      print('chal nikal yahan se')\n",
        "\n",
        "  def withdraw(self):\n",
        "    user_pin = input('enter the pin')\n",
        "    if user_pin == self.pin:\n",
        "      # allow to withdraw\n",
        "      amount = int(input('enter the amount'))\n",
        "      if amount <= self.__balance:\n",
        "        self.__balance = self.__balance - amount\n",
        "        print('withdrawl successful.balance is',self.__balance)\n",
        "      else:\n",
        "        print('abe garib')\n",
        "    else:\n",
        "      print('sale chor')"
      ]
    },
    {
      "cell_type": "code",
      "execution_count": 71,
      "metadata": {
        "colab": {
          "base_uri": "https://localhost:8080/"
        },
        "id": "uafMrCPewZWY",
        "outputId": "b0c914a4-b08b-4aa0-ebcb-9f1b4bacd0ba"
      },
      "outputs": [
        {
          "name": "stdout",
          "output_type": "stream",
          "text": [
            "1659482130256\n"
          ]
        }
      ],
      "source": [
        "c1 = Atm()\n"
      ]
    },
    {
      "cell_type": "code",
      "execution_count": 72,
      "metadata": {},
      "outputs": [
        {
          "name": "stdout",
          "output_type": "stream",
          "text": [
            "1659481760272\n"
          ]
        }
      ],
      "source": [
        "c2=Atm()"
      ]
    },
    {
      "cell_type": "code",
      "execution_count": 73,
      "metadata": {},
      "outputs": [
        {
          "name": "stdout",
          "output_type": "stream",
          "text": [
            "1659482169744\n"
          ]
        }
      ],
      "source": [
        "c3=Atm()"
      ]
    },
    {
      "cell_type": "code",
      "execution_count": 74,
      "metadata": {},
      "outputs": [
        {
          "data": {
            "text/plain": [
              "1"
            ]
          },
          "execution_count": 74,
          "metadata": {},
          "output_type": "execute_result"
        }
      ],
      "source": [
        "c1.cid"
      ]
    },
    {
      "cell_type": "code",
      "execution_count": 75,
      "metadata": {},
      "outputs": [
        {
          "data": {
            "text/plain": [
              "2"
            ]
          },
          "execution_count": 75,
          "metadata": {},
          "output_type": "execute_result"
        }
      ],
      "source": [
        "c2.cid"
      ]
    },
    {
      "cell_type": "code",
      "execution_count": 77,
      "metadata": {},
      "outputs": [
        {
          "data": {
            "text/plain": [
              "3"
            ]
          },
          "execution_count": 77,
          "metadata": {},
          "output_type": "execute_result"
        }
      ],
      "source": [
        "c3.cid"
      ]
    },
    {
      "cell_type": "code",
      "execution_count": 79,
      "metadata": {
        "colab": {
          "base_uri": "https://localhost:8080/"
        },
        "id": "f35wRAlXwZa7",
        "outputId": "a7a897b2-8262-45b7-b83a-aad207ee102f"
      },
      "outputs": [
        {
          "data": {
            "text/plain": [
              "4"
            ]
          },
          "execution_count": 79,
          "metadata": {},
          "output_type": "execute_result"
        }
      ],
      "source": [
        "Atm.get_counter()"
      ]
    },
    {
      "cell_type": "code",
      "execution_count": null,
      "metadata": {
        "colab": {
          "base_uri": "https://localhost:8080/"
        },
        "id": "WiCrLBgGTseq",
        "outputId": "9019d462-0b46-4a9d-8837-6a3c31591ad4"
      },
      "outputs": [
        {
          "name": "stdout",
          "output_type": "stream",
          "text": [
            "140655538226704\n"
          ]
        }
      ],
      "source": [
        "c3 = Atm()"
      ]
    },
    {
      "cell_type": "code",
      "execution_count": null,
      "metadata": {
        "colab": {
          "base_uri": "https://localhost:8080/"
        },
        "id": "YwPU4wRYTuoK",
        "outputId": "cb34a43c-1337-412f-c7ee-e6a2eccd9066"
      },
      "outputs": [
        {
          "data": {
            "text/plain": [
              "3"
            ]
          },
          "execution_count": 121,
          "metadata": {},
          "output_type": "execute_result"
        }
      ],
      "source": [
        "c3.cid"
      ]
    },
    {
      "cell_type": "code",
      "execution_count": null,
      "metadata": {
        "colab": {
          "base_uri": "https://localhost:8080/"
        },
        "id": "-shiIdW1Vmzd",
        "outputId": "2e1b0468-2e2f-4061-d219-6ee4d818ceea"
      },
      "outputs": [
        {
          "data": {
            "text/plain": [
              "4"
            ]
          },
          "execution_count": 122,
          "metadata": {},
          "output_type": "execute_result"
        }
      ],
      "source": [
        "Atm.counter"
      ]
    },
    {
      "cell_type": "markdown",
      "metadata": {
        "id": "K9bxHyfBgC3Y"
      },
      "source": [
        "### Static methods"
      ]
    },
    {
      "cell_type": "code",
      "execution_count": null,
      "metadata": {
        "id": "_c09xqV9gEf-"
      },
      "outputs": [],
      "source": []
    },
    {
      "cell_type": "markdown",
      "metadata": {
        "id": "Izqb_9FtwoIZ"
      },
      "source": [
        "##### Points to remember about static\n",
        "\n",
        "- Static attributes are created at class level.\n",
        "- Static attributes are accessed using ClassName.\n",
        "- Static attributes are object independent. We can access them without creating instance (object) of the class in which they are defined.\n",
        "- The value stored in static attribute is shared between all instances(objects) of the class in which the static attribute is defined."
      ]
    },
    {
      "cell_type": "code",
      "execution_count": null,
      "metadata": {
        "id": "3u0RdyaFwyaP"
      },
      "outputs": [],
      "source": [
        "class Lion:\n",
        "  __water_source=\"well in the circus\"\n",
        "\n",
        "  def __init__(self,name, gender):\n",
        "      self.__name=name\n",
        "      self.__gender=gender\n",
        "\n",
        "  def drinks_water(self):\n",
        "      print(self.__name,\n",
        "      \"drinks water from the\",Lion.__water_source)\n",
        "\n",
        "  @staticmethod\n",
        "  def get_water_source():\n",
        "      return Lion.__water_source\n",
        "\n",
        "simba=Lion(\"Simba\",\"Male\")\n",
        "simba.drinks_water()\n",
        "print( \"Water source of lions:\",Lion.get_water_source())"
      ]
    }
  ],
  "metadata": {
    "colab": {
      "provenance": []
    },
    "kernelspec": {
      "display_name": "Python 3",
      "name": "python3"
    },
    "language_info": {
      "codemirror_mode": {
        "name": "ipython",
        "version": 3
      },
      "file_extension": ".py",
      "mimetype": "text/x-python",
      "name": "python",
      "nbconvert_exporter": "python",
      "pygments_lexer": "ipython3",
      "version": "3.11.4"
    }
  },
  "nbformat": 4,
  "nbformat_minor": 0
}
