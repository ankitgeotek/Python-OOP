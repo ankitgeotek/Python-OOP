{
  "cells": [
    {
      "cell_type": "markdown",
      "metadata": {
        "id": "yqLLqLyj4r0z"
      },
      "source": [
        "### Class Relationships\n",
        "\n",
        "- Aggregation\n",
        "- Inheritance"
      ]
    },
    {
      "cell_type": "markdown",
      "metadata": {
        "id": "f69fS6U45Hqr"
      },
      "source": [
        "### Aggregation(Has-A relationship)"
      ]
    },
    {
      "cell_type": "code",
      "execution_count": 7,
      "metadata": {},
      "outputs": [
        {
          "name": "stdout",
          "output_type": "stream",
          "text": [
            "Gurugram 252545 Haryana\n"
          ]
        }
      ],
      "source": [
        "#Example\n",
        "class Customer:\n",
        "\n",
        "    def __init__(self,name,gender,address):\n",
        "        self.name=name\n",
        "        self.gender=gender\n",
        "        self.address=address\n",
        "\n",
        "    def print_address(self):\n",
        "        print(self.address.city, self.address.pin, self.address.state)\n",
        "\n",
        "\n",
        "\n",
        "\n",
        "\n",
        "\n",
        "\n",
        "class Address:\n",
        "    def __init__(self,city,pin,state):\n",
        "        self.city=city\n",
        "        self.pin=pin\n",
        "        self.state=state\n",
        "\n",
        "adrs=Address('Gurugram',252545,'Haryana')\n",
        "\n",
        "cust=Customer(\"Ankit\",'Male',adrs)\n",
        "\n",
        "cust.print_address()"
      ]
    },
    {
      "cell_type": "code",
      "execution_count": 9,
      "metadata": {},
      "outputs": [
        {
          "ename": "AttributeError",
          "evalue": "'Address' object has no attribute '_Customer__city'",
          "output_type": "error",
          "traceback": [
            "\u001b[1;31m---------------------------------------------------------------------------\u001b[0m",
            "\u001b[1;31mAttributeError\u001b[0m                            Traceback (most recent call last)",
            "\u001b[1;32ma:\\Work Docs\\Data Analyst work\\Campus X\\08 Python OOP\\oop 03.ipynb Cell 4\u001b[0m line \u001b[0;36m2\n\u001b[0;32m     <a href='vscode-notebook-cell:/a%3A/Work%20Docs/Data%20Analyst%20work/Campus%20X/08%20Python%20OOP/oop%2003.ipynb#Y103sZmlsZQ%3D%3D?line=23'>24</a>\u001b[0m adrs\u001b[39m=\u001b[39mAddress(\u001b[39m'\u001b[39m\u001b[39mGurugram\u001b[39m\u001b[39m'\u001b[39m,\u001b[39m252545\u001b[39m,\u001b[39m'\u001b[39m\u001b[39mHaryana\u001b[39m\u001b[39m'\u001b[39m)\n\u001b[0;32m     <a href='vscode-notebook-cell:/a%3A/Work%20Docs/Data%20Analyst%20work/Campus%20X/08%20Python%20OOP/oop%2003.ipynb#Y103sZmlsZQ%3D%3D?line=25'>26</a>\u001b[0m cust\u001b[39m=\u001b[39mCustomer(\u001b[39m\"\u001b[39m\u001b[39mAnkit\u001b[39m\u001b[39m\"\u001b[39m,\u001b[39m'\u001b[39m\u001b[39mMale\u001b[39m\u001b[39m'\u001b[39m,adrs)\n\u001b[1;32m---> <a href='vscode-notebook-cell:/a%3A/Work%20Docs/Data%20Analyst%20work/Campus%20X/08%20Python%20OOP/oop%2003.ipynb#Y103sZmlsZQ%3D%3D?line=27'>28</a>\u001b[0m cust\u001b[39m.\u001b[39;49mprint_address()\n",
            "\u001b[1;32ma:\\Work Docs\\Data Analyst work\\Campus X\\08 Python OOP\\oop 03.ipynb Cell 4\u001b[0m line \u001b[0;36m1\n\u001b[0;32m      <a href='vscode-notebook-cell:/a%3A/Work%20Docs/Data%20Analyst%20work/Campus%20X/08%20Python%20OOP/oop%2003.ipynb#Y103sZmlsZQ%3D%3D?line=8'>9</a>\u001b[0m \u001b[39mdef\u001b[39;00m \u001b[39mprint_address\u001b[39m(\u001b[39mself\u001b[39m):\n\u001b[1;32m---> <a href='vscode-notebook-cell:/a%3A/Work%20Docs/Data%20Analyst%20work/Campus%20X/08%20Python%20OOP/oop%2003.ipynb#Y103sZmlsZQ%3D%3D?line=9'>10</a>\u001b[0m     \u001b[39mprint\u001b[39m(\u001b[39mself\u001b[39;49m\u001b[39m.\u001b[39;49maddress\u001b[39m.\u001b[39;49m__city, \u001b[39mself\u001b[39m\u001b[39m.\u001b[39maddress\u001b[39m.\u001b[39m__pin, \u001b[39mself\u001b[39m\u001b[39m.\u001b[39maddress\u001b[39m.\u001b[39m__state)\n",
            "\u001b[1;31mAttributeError\u001b[0m: 'Address' object has no attribute '_Customer__city'"
          ]
        }
      ],
      "source": [
        "#Example    Aggregation can not access private variable\n",
        "class Customer:\n",
        "\n",
        "    def __init__(self,name,gender,address):\n",
        "        self.name=name\n",
        "        self.gender=gender\n",
        "        self.address=address\n",
        "\n",
        "    def print_address(self):\n",
        "        print(self.address.__city, self.address.__pin, self.address.__state)\n",
        "\n",
        "\n",
        "\n",
        "\n",
        "\n",
        "\n",
        "\n",
        "class Address:\n",
        "    def __init__(self,city,pin,state):\n",
        "        self.__city=city\n",
        "        self.__pin=pin\n",
        "        self.__state=state\n",
        "\n",
        "adrs=Address('Gurugram',252545,'Haryana')\n",
        "\n",
        "cust=Customer(\"Ankit\",'Male',adrs)\n",
        "\n",
        "cust.print_address()"
      ]
    },
    {
      "cell_type": "code",
      "execution_count": 14,
      "metadata": {},
      "outputs": [
        {
          "name": "stdout",
          "output_type": "stream",
          "text": [
            "Gurugram 252545 Haryana\n"
          ]
        }
      ],
      "source": [
        "#Example    Aggregation can access private variable using getter-setter method\n",
        "class Customer:\n",
        "\n",
        "    def __init__(self,name,gender,address):\n",
        "        self.name=name\n",
        "        self.gender=gender\n",
        "        self.address=address\n",
        "\n",
        "    def print_address(self):\n",
        "        print(self.address.get_city(), self.address.get_pin(), self.address.state)\n",
        "\n",
        "    def edit_profile(self,new_name, new_city, new_pin, new_state):\n",
        "        self.name=new_name\n",
        "        self.address.edit_address(new_city,new_pin, new_state)\n",
        "\n",
        "\n",
        "\n",
        "\n",
        "\n",
        "class Address:\n",
        "    def __init__(self,city,pin,state):\n",
        "        self.__city=city\n",
        "        self.__pin=pin\n",
        "        self.state=state\n",
        "\n",
        "    def get_city(self):\n",
        "        return self.__city\n",
        "\n",
        "    def get_pin(self):\n",
        "        return self.__pin\n",
        "    \n",
        "    def edit_address(self,new_city, new_pin, new_state):\n",
        "        self.__city = new_city\n",
        "        self.__pin= new_pin\n",
        "        self.state = new_state\n",
        "    \n",
        "\n",
        "adrs=Address('Gurugram',252545,'Haryana')\n",
        "\n",
        "cust=Customer(\"Ankit\",'Male',adrs)\n",
        "\n",
        "cust.print_address()"
      ]
    },
    {
      "cell_type": "code",
      "execution_count": 15,
      "metadata": {},
      "outputs": [],
      "source": [
        "cust.edit_profile('Ankita','Noida',206252,'UP')"
      ]
    },
    {
      "cell_type": "code",
      "execution_count": 17,
      "metadata": {},
      "outputs": [
        {
          "data": {
            "text/plain": [
              "'Ankita'"
            ]
          },
          "execution_count": 17,
          "metadata": {},
          "output_type": "execute_result"
        }
      ],
      "source": [
        "cust.name"
      ]
    },
    {
      "cell_type": "code",
      "execution_count": 20,
      "metadata": {},
      "outputs": [
        {
          "name": "stdout",
          "output_type": "stream",
          "text": [
            "Noida 206252 UP\n"
          ]
        }
      ],
      "source": [
        "cust.print_address()"
      ]
    },
    {
      "attachments": {
        "Screenshot 2023-09-21 175726.png": {
          "image/png": "[encoded data removed]"
        }
      },
      "cell_type": "markdown",
      "metadata": {
        "id": "iwHzHwcQ5L94"
      },
      "source": [
        "##### Aggregation class diagram\n",
        "\n",
        "\n",
        "![Screenshot 2023-09-21 175726.png](<attachment:Screenshot 2023-09-21 175726.png>)\n"
      ]
    },
    {
      "cell_type": "code",
      "execution_count": null,
      "metadata": {},
      "outputs": [],
      "source": []
    },
    {
      "cell_type": "markdown",
      "metadata": {
        "id": "ftkzTkLv64OS"
      },
      "source": [
        "### Inheritance\n",
        "\n",
        "- What is inheritance\n",
        "- Example\n",
        "- What gets inherited?"
      ]
    },
    {
      "cell_type": "code",
      "execution_count": null,
      "metadata": {
        "id": "uSTDcEyh65cu"
      },
      "outputs": [],
      "source": [
        "# Inheritance and it's benefits"
      ]
    },
    {
      "cell_type": "code",
      "execution_count": 34,
      "metadata": {
        "colab": {
          "base_uri": "https://localhost:8080/"
        },
        "id": "k_BCUsIbPHud",
        "outputId": "ace03f99-3335-4da0-9ab6-37d6f980f637"
      },
      "outputs": [
        {
          "name": "stdout",
          "output_type": "stream",
          "text": [
            "Nitesh\n",
            "Male\n",
            "<bound method User.login of <__main__.Student object at 0x000001BC3E7D5990>>\n",
            "<bound method Student.enroll of <__main__.Student object at 0x000001BC3E7D5990>>\n"
          ]
        }
      ],
      "source": [
        "# Example\n",
        "\n",
        "class User:   #Parent Class\n",
        "    def __init__(self):\n",
        "        self.name = 'Nitesh'\n",
        "        self.gender = 'Male'\n",
        "\n",
        "    def login(self):\n",
        "        print('Logged In')\n",
        "\n",
        "\n",
        "'''\n",
        " if there is a constructor in child class then child constructor will be executed and parent constructor will not ececute\n",
        " if there is no  constructor in child class then child constructor will be executed and parent constructor will ececute\n",
        "    you can access non private variable, non private method and constructor of your parent class\n",
        "'''\n",
        "\n",
        " \n",
        "\n",
        "class Student(User): #Child Class    \n",
        "  \n",
        "    def enroll(self):\n",
        "        print('Enroll  into the course')\n",
        "\n",
        "u = User()\n",
        "\n",
        "s=Student()\n",
        "\n",
        "print(s.name)\n",
        "print(s.gender)\n",
        "print(s.login)\n",
        "print(s.enroll)"
      ]
    },
    {
      "cell_type": "code",
      "execution_count": null,
      "metadata": {
        "id": "Nh2Ug7mZSJMd"
      },
      "outputs": [],
      "source": [
        "# Class diagram"
      ]
    },
    {
      "cell_type": "markdown",
      "metadata": {
        "id": "CJEPRGHGPY9n"
      },
      "source": [
        "##### What gets inherited?\n",
        "\n",
        "- Constructor\n",
        "- Non Private Attributes\n",
        "- Non Private Methods"
      ]
    },
    {
      "cell_type": "code",
      "execution_count": null,
      "metadata": {
        "colab": {
          "base_uri": "https://localhost:8080/"
        },
        "id": "VGpL2aWUPX-C",
        "outputId": "5114dda8-4e7a-45ea-fd82-ce6e968cba82"
      },
      "outputs": [
        {
          "name": "stdout",
          "output_type": "stream",
          "text": [
            "Inside phone constructor\n",
            "Buying a phone\n"
          ]
        }
      ],
      "source": [
        "# constructor example\n",
        "\n",
        "class Phone:\n",
        "    def __init__(self, price, brand, camera):\n",
        "        print (\"Inside phone constructor\")\n",
        "        self.price = price\n",
        "        self.brand = brand\n",
        "        self.camera = camera\n",
        "\n",
        "    def buy(self):\n",
        "        print (\"Buying a phone\")\n",
        "\n",
        "class SmartPhone(Phone):\n",
        "    pass\n",
        "\n",
        "s=SmartPhone(20000, \"Apple\", 13)\n",
        "s.buy()"
      ]
    },
    {
      "cell_type": "code",
      "execution_count": 36,
      "metadata": {
        "colab": {
          "base_uri": "https://localhost:8080/",
          "height": 223
        },
        "id": "PMjCWA3wP_s-",
        "outputId": "9cf6eca4-444a-48ee-9a55-82eeca73e4e2"
      },
      "outputs": [
        {
          "name": "stdout",
          "output_type": "stream",
          "text": [
            "Inside SmartPhone constructor\n"
          ]
        },
        {
          "ename": "AttributeError",
          "evalue": "'SmartPhone' object has no attribute 'brand'",
          "output_type": "error",
          "traceback": [
            "\u001b[1;31m---------------------------------------------------------------------------\u001b[0m",
            "\u001b[1;31mAttributeError\u001b[0m                            Traceback (most recent call last)",
            "\u001b[1;32ma:\\Work Docs\\Data Analyst work\\Campus X\\08 Python OOP\\oop 03.ipynb Cell 17\u001b[0m line \u001b[0;36m1\n\u001b[0;32m     <a href='vscode-notebook-cell:/a%3A/Work%20Docs/Data%20Analyst%20work/Campus%20X/08%20Python%20OOP/oop%2003.ipynb#X14sZmlsZQ%3D%3D?line=13'>14</a>\u001b[0m         \u001b[39mprint\u001b[39m (\u001b[39m\"\u001b[39m\u001b[39mInside SmartPhone constructor\u001b[39m\u001b[39m\"\u001b[39m)\n\u001b[0;32m     <a href='vscode-notebook-cell:/a%3A/Work%20Docs/Data%20Analyst%20work/Campus%20X/08%20Python%20OOP/oop%2003.ipynb#X14sZmlsZQ%3D%3D?line=15'>16</a>\u001b[0m s\u001b[39m=\u001b[39mSmartPhone(\u001b[39m\"\u001b[39m\u001b[39mAndroid\u001b[39m\u001b[39m\"\u001b[39m, \u001b[39m2\u001b[39m)\n\u001b[1;32m---> <a href='vscode-notebook-cell:/a%3A/Work%20Docs/Data%20Analyst%20work/Campus%20X/08%20Python%20OOP/oop%2003.ipynb#X14sZmlsZQ%3D%3D?line=16'>17</a>\u001b[0m s\u001b[39m.\u001b[39;49mbrand\n",
            "\u001b[1;31mAttributeError\u001b[0m: 'SmartPhone' object has no attribute 'brand'"
          ]
        }
      ],
      "source": [
        "# constructor example 2\n",
        "\n",
        "class Phone:\n",
        "    def __init__(self, price, brand, camera):\n",
        "        print (\"Inside phone constructor\")\n",
        "        self.__price = price\n",
        "        self.brand = brand\n",
        "        self.camera = camera\n",
        "\n",
        "class SmartPhone(Phone):\n",
        "    def __init__(self, os, ram):\n",
        "        self.os = os\n",
        "        self.ram = ram\n",
        "        print (\"Inside SmartPhone constructor\")\n",
        "\n",
        "s=SmartPhone(\"Android\", 2)\n",
        "s.brand"
      ]
    },
    {
      "cell_type": "code",
      "execution_count": 40,
      "metadata": {
        "colab": {
          "base_uri": "https://localhost:8080/"
        },
        "id": "OBJEbXw3QNs5",
        "outputId": "a6a7aa97-7b04-4f07-959f-290c1c82d2cd"
      },
      "outputs": [
        {
          "name": "stdout",
          "output_type": "stream",
          "text": [
            "Inside phone constructor\n",
            "20000\n"
          ]
        },
        {
          "data": {
            "text/plain": [
              "'Apple'"
            ]
          },
          "execution_count": 40,
          "metadata": {},
          "output_type": "execute_result"
        }
      ],
      "source": [
        "# child can't access private members of the class\n",
        "\n",
        "class Phone:\n",
        "    def __init__(self, price, brand, camera):\n",
        "        print (\"Inside phone constructor\")\n",
        "        self.__price = price\n",
        "        self.brand = brand\n",
        "        self.camera = camera\n",
        "\n",
        "    #getter\n",
        "    def show(self):\n",
        "        print (self.__price)\n",
        "\n",
        "class SmartPhone(Phone):\n",
        "    def check(self):\n",
        "        print(self.__price)\n",
        "\n",
        "s=SmartPhone(20000, \"Apple\", 13)\n",
        "s.show()\n",
        "s.brand"
      ]
    },
    {
      "cell_type": "code",
      "execution_count": 41,
      "metadata": {
        "colab": {
          "base_uri": "https://localhost:8080/"
        },
        "id": "4ehYsT2BS5Cm",
        "outputId": "5e27f6d1-0f60-4246-fd59-977e41dfd4f9"
      },
      "outputs": [
        {
          "name": "stdout",
          "output_type": "stream",
          "text": [
            "100\n",
            "This is in child class\n"
          ]
        }
      ],
      "source": [
        "class Parent:\n",
        "\n",
        "    def __init__(self,num):\n",
        "        self.__num=num\n",
        "\n",
        "    def get_num(self):\n",
        "        return self.__num\n",
        "\n",
        "class Child(Parent):\n",
        "\n",
        "    def show(self):\n",
        "        print(\"This is in child class\")\n",
        "\n",
        "son=Child(100)\n",
        "print(son.get_num())\n",
        "son.show()"
      ]
    },
    {
      "cell_type": "code",
      "execution_count": 42,
      "metadata": {
        "colab": {
          "base_uri": "https://localhost:8080/",
          "height": 348
        },
        "id": "__jK3DNZS7-g",
        "outputId": "1cb66ea1-97e5-4589-d792-ec804c3ddb81"
      },
      "outputs": [
        {
          "name": "stdout",
          "output_type": "stream",
          "text": [
            "Child: Val: 100\n"
          ]
        },
        {
          "ename": "AttributeError",
          "evalue": "'Child' object has no attribute '_Parent__num'",
          "output_type": "error",
          "traceback": [
            "\u001b[1;31m---------------------------------------------------------------------------\u001b[0m",
            "\u001b[1;31mAttributeError\u001b[0m                            Traceback (most recent call last)",
            "\u001b[1;32ma:\\Work Docs\\Data Analyst work\\Campus X\\08 Python OOP\\oop 03.ipynb Cell 20\u001b[0m line \u001b[0;36m1\n\u001b[0;32m     <a href='vscode-notebook-cell:/a%3A/Work%20Docs/Data%20Analyst%20work/Campus%20X/08%20Python%20OOP/oop%2003.ipynb#X20sZmlsZQ%3D%3D?line=16'>17</a>\u001b[0m son\u001b[39m=\u001b[39mChild(\u001b[39m100\u001b[39m,\u001b[39m10\u001b[39m)\n\u001b[0;32m     <a href='vscode-notebook-cell:/a%3A/Work%20Docs/Data%20Analyst%20work/Campus%20X/08%20Python%20OOP/oop%2003.ipynb#X20sZmlsZQ%3D%3D?line=17'>18</a>\u001b[0m \u001b[39mprint\u001b[39m(\u001b[39m\"\u001b[39m\u001b[39mChild: Val:\u001b[39m\u001b[39m\"\u001b[39m,son\u001b[39m.\u001b[39mget_val())\n\u001b[1;32m---> <a href='vscode-notebook-cell:/a%3A/Work%20Docs/Data%20Analyst%20work/Campus%20X/08%20Python%20OOP/oop%2003.ipynb#X20sZmlsZQ%3D%3D?line=18'>19</a>\u001b[0m \u001b[39mprint\u001b[39m(\u001b[39m\"\u001b[39m\u001b[39mParent: Num:\u001b[39m\u001b[39m\"\u001b[39m,son\u001b[39m.\u001b[39;49mget_num())\n",
            "\u001b[1;32ma:\\Work Docs\\Data Analyst work\\Campus X\\08 Python OOP\\oop 03.ipynb Cell 20\u001b[0m line \u001b[0;36m7\n\u001b[0;32m      <a href='vscode-notebook-cell:/a%3A/Work%20Docs/Data%20Analyst%20work/Campus%20X/08%20Python%20OOP/oop%2003.ipynb#X20sZmlsZQ%3D%3D?line=5'>6</a>\u001b[0m \u001b[39mdef\u001b[39;00m \u001b[39mget_num\u001b[39m(\u001b[39mself\u001b[39m):\n\u001b[1;32m----> <a href='vscode-notebook-cell:/a%3A/Work%20Docs/Data%20Analyst%20work/Campus%20X/08%20Python%20OOP/oop%2003.ipynb#X20sZmlsZQ%3D%3D?line=6'>7</a>\u001b[0m     \u001b[39mreturn\u001b[39;00m \u001b[39mself\u001b[39;49m\u001b[39m.\u001b[39;49m__num\n",
            "\u001b[1;31mAttributeError\u001b[0m: 'Child' object has no attribute '_Parent__num'"
          ]
        }
      ],
      "source": [
        "class Parent:\n",
        "\n",
        "    def __init__(self,num):\n",
        "        self.__num=num\n",
        "\n",
        "    def get_num(self):\n",
        "        return self.__num\n",
        "\n",
        "class Child(Parent):\n",
        "\n",
        "    def __init__(self,val,num):\n",
        "        self.__val=val\n",
        "\n",
        "    def get_val(self):\n",
        "        return self.__val\n",
        "\n",
        "son=Child(100,10)\n",
        "print(\"Child: Val:\",son.get_val())\n",
        "print(\"Parent: Num:\",son.get_num())\n"
      ]
    },
    {
      "cell_type": "code",
      "execution_count": 44,
      "metadata": {
        "colab": {
          "base_uri": "https://localhost:8080/"
        },
        "id": "nyRDS-91TJA_",
        "outputId": "ca0f5671-e73a-467b-8c96-45f825e88eaa"
      },
      "outputs": [
        {
          "name": "stdout",
          "output_type": "stream",
          "text": [
            "class A : 100\n"
          ]
        }
      ],
      "source": [
        "class A:\n",
        "    def __init__(self):\n",
        "        self.var1=100\n",
        "\n",
        "    def display1(self,var1):\n",
        "        print(\"class A :\", self.var1)\n",
        "class B(A):\n",
        "\n",
        "    def display2(self,var1):\n",
        "        print(\"class B :\", self.var1)\n",
        "\n",
        "obj=B()\n",
        "obj.display1(200)"
      ]
    },
    {
      "cell_type": "code",
      "execution_count": 45,
      "metadata": {
        "colab": {
          "base_uri": "https://localhost:8080/"
        },
        "id": "EgDguVtCTlsY",
        "outputId": "e9a17cfc-e48d-4967-90df-164a9fb9906e"
      },
      "outputs": [
        {
          "name": "stdout",
          "output_type": "stream",
          "text": [
            "Inside phone constructor\n",
            "Buying a smartphone\n"
          ]
        }
      ],
      "source": [
        "# Method Overriding\n",
        "class Phone:\n",
        "    def __init__(self, price, brand, camera):\n",
        "        print (\"Inside phone constructor\")\n",
        "        self.__price = price\n",
        "        self.brand = brand\n",
        "        self.camera = camera\n",
        "\n",
        "    def buy(self):\n",
        "        print (\"Buying a phone\")\n",
        "\n",
        "class SmartPhone(Phone):\n",
        "    def buy(self):\n",
        "        print (\"Buying a smartphone\")\n",
        "\n",
        "s=SmartPhone(20000, \"Apple\", 13)\n",
        "\n",
        "s.buy()"
      ]
    },
    {
      "cell_type": "markdown",
      "metadata": {
        "id": "O85epdv770M-"
      },
      "source": [
        "### Super Keyword\n",
        "\n",
        "Super can not access variables\n",
        "\n",
        "super can not be used outside the class\n",
        "\n",
        "super can only be used inside the child class"
      ]
    },
    {
      "cell_type": "code",
      "execution_count": 46,
      "metadata": {
        "colab": {
          "base_uri": "https://localhost:8080/"
        },
        "id": "NR4F_NIo71hS",
        "outputId": "31d11020-10c1-47cd-81e0-6335ee6fc1f0"
      },
      "outputs": [
        {
          "name": "stdout",
          "output_type": "stream",
          "text": [
            "Inside phone constructor\n",
            "Buying a smartphone\n",
            "Buying a phone\n"
          ]
        }
      ],
      "source": [
        "class Phone:\n",
        "    def __init__(self, price, brand, camera):\n",
        "        print (\"Inside phone constructor\")\n",
        "        self.__price = price\n",
        "        self.brand = brand\n",
        "        self.camera = camera\n",
        "\n",
        "    def buy(self):\n",
        "        print (\"Buying a phone\")\n",
        "\n",
        "class SmartPhone(Phone):\n",
        "    def buy(self):\n",
        "        print (\"Buying a smartphone\")\n",
        "        # syntax to call parent ka buy method\n",
        "        super().buy()\n",
        "\n",
        "s=SmartPhone(20000, \"Apple\", 13)\n",
        "\n",
        "s.buy()"
      ]
    },
    {
      "cell_type": "code",
      "execution_count": 50,
      "metadata": {
        "colab": {
          "base_uri": "https://localhost:8080/",
          "height": 223
        },
        "id": "USJ2YcPLT68v",
        "outputId": "9039f621-2f56-4d1b-f4ed-8abc36ac4cd8"
      },
      "outputs": [
        {
          "name": "stdout",
          "output_type": "stream",
          "text": [
            "Inside phone constructor\n",
            "Buying a smartphone\n",
            "Buying a phone\n"
          ]
        }
      ],
      "source": [
        "# using super outside the class\n",
        "class Phone:\n",
        "    def __init__(self, price, brand, camera):\n",
        "        print (\"Inside phone constructor\")\n",
        "        self.__price = price\n",
        "        self.brand = brand\n",
        "        self.camera = camera\n",
        "\n",
        "    def buy(self):\n",
        "        print (\"Buying a phone\")\n",
        "\n",
        "class SmartPhone(Phone):\n",
        "    def buy(self):\n",
        "        print (\"Buying a smartphone\")\n",
        "        # syntax to call parent ka buy method\n",
        "        super().buy()\n",
        "\n",
        "s=SmartPhone(20000, \"Apple\", 13)\n",
        "\n",
        "s.buy()"
      ]
    },
    {
      "cell_type": "code",
      "execution_count": 55,
      "metadata": {},
      "outputs": [
        {
          "name": "stdout",
          "output_type": "stream",
          "text": [
            "Inside phone constructor\n",
            "Inside smartphone constructor\n",
            "Buying a smartphone\n",
            "Buying a phone\n",
            "Android\n",
            "32\n",
            "Apple\n"
          ]
        }
      ],
      "source": [
        "# uper -> constructor\n",
        "class Phone:\n",
        "    def __init__(self, price, brand, camera):\n",
        "        print (\"Inside phone constructor\")\n",
        "        self.__price = price\n",
        "        self.brand = brand\n",
        "        self.camera = camera\n",
        "\n",
        "    def buy(self):\n",
        "        print (\"Buying a phone\")\n",
        "\n",
        "class SmartPhone(Phone):\n",
        "\n",
        "    def __init__(self, price, brand, camera, os, ram):\n",
        "\n",
        "        super().__init__(price,brand,camera)\n",
        "        \n",
        "        self.os = os\n",
        "        self.ram = ram\n",
        "        print('Inside smartphone constructor')\n",
        "\n",
        "\n",
        "\n",
        "\n",
        "    def buy(self):\n",
        "        print (\"Buying a smartphone\")\n",
        "        # syntax to call parent ka buy method\n",
        "        super().buy()\n",
        "\n",
        "s=SmartPhone(20000, \"Apple\", 13, 'Android', 32)\n",
        "\n",
        "s.buy()\n",
        "print(s.os)\n",
        "print(s.ram)\n",
        "print(s.brand)"
      ]
    },
    {
      "cell_type": "code",
      "execution_count": 56,
      "metadata": {},
      "outputs": [
        {
          "name": "stdout",
          "output_type": "stream",
          "text": [
            "Inside phone constructor\n",
            "Inside smartphone constructor\n"
          ]
        },
        {
          "ename": "AttributeError",
          "evalue": "'SmartPhone' object has no attribute 'super'",
          "output_type": "error",
          "traceback": [
            "\u001b[1;31m---------------------------------------------------------------------------\u001b[0m",
            "\u001b[1;31mAttributeError\u001b[0m                            Traceback (most recent call last)",
            "\u001b[1;32ma:\\Work Docs\\Data Analyst work\\Campus X\\08 Python OOP\\oop 03.ipynb Cell 27\u001b[0m line \u001b[0;36m3\n\u001b[0;32m     <a href='vscode-notebook-cell:/a%3A/Work%20Docs/Data%20Analyst%20work/Campus%20X/08%20Python%20OOP/oop%2003.ipynb#Y116sZmlsZQ%3D%3D?line=27'>28</a>\u001b[0m         \u001b[39msuper\u001b[39m()\u001b[39m.\u001b[39mbuy()\n\u001b[0;32m     <a href='vscode-notebook-cell:/a%3A/Work%20Docs/Data%20Analyst%20work/Campus%20X/08%20Python%20OOP/oop%2003.ipynb#Y116sZmlsZQ%3D%3D?line=29'>30</a>\u001b[0m s\u001b[39m=\u001b[39mSmartPhone(\u001b[39m20000\u001b[39m, \u001b[39m\"\u001b[39m\u001b[39mApple\u001b[39m\u001b[39m\"\u001b[39m, \u001b[39m13\u001b[39m, \u001b[39m'\u001b[39m\u001b[39mAndroid\u001b[39m\u001b[39m'\u001b[39m, \u001b[39m32\u001b[39m)\n\u001b[1;32m---> <a href='vscode-notebook-cell:/a%3A/Work%20Docs/Data%20Analyst%20work/Campus%20X/08%20Python%20OOP/oop%2003.ipynb#Y116sZmlsZQ%3D%3D?line=31'>32</a>\u001b[0m s\u001b[39m.\u001b[39;49msuper()\u001b[39m.\u001b[39mbuy()\n\u001b[0;32m     <a href='vscode-notebook-cell:/a%3A/Work%20Docs/Data%20Analyst%20work/Campus%20X/08%20Python%20OOP/oop%2003.ipynb#Y116sZmlsZQ%3D%3D?line=32'>33</a>\u001b[0m \u001b[39mprint\u001b[39m(s\u001b[39m.\u001b[39mos)\n\u001b[0;32m     <a href='vscode-notebook-cell:/a%3A/Work%20Docs/Data%20Analyst%20work/Campus%20X/08%20Python%20OOP/oop%2003.ipynb#Y116sZmlsZQ%3D%3D?line=33'>34</a>\u001b[0m \u001b[39mprint\u001b[39m(s\u001b[39m.\u001b[39mram)\n",
            "\u001b[1;31mAttributeError\u001b[0m: 'SmartPhone' object has no attribute 'super'"
          ]
        }
      ],
      "source": [
        "# uper -> constructor\n",
        "class Phone:\n",
        "    def __init__(self, price, brand, camera):\n",
        "        print (\"Inside phone constructor\")\n",
        "        self.__price = price\n",
        "        self.brand = brand\n",
        "        self.camera = camera\n",
        "\n",
        "    def buy(self):\n",
        "        print (\"Buying a phone\")\n",
        "\n",
        "class SmartPhone(Phone):\n",
        "\n",
        "    def __init__(self, price, brand, camera, os, ram):\n",
        "\n",
        "        super().__init__(price,brand,camera)\n",
        "        \n",
        "        self.os = os\n",
        "        self.ram = ram\n",
        "        print('Inside smartphone constructor')\n",
        "\n",
        "\n",
        "\n",
        "\n",
        "    def buy(self):\n",
        "        print (\"Buying a smartphone\")\n",
        "        # syntax to call parent ka buy method\n",
        "        super().buy()\n",
        "\n",
        "s=SmartPhone(20000, \"Apple\", 13, 'Android', 32)\n",
        "\n",
        "s.super().buy() # will not work\n"
      ]
    },
    {
      "cell_type": "code",
      "execution_count": 57,
      "metadata": {},
      "outputs": [
        {
          "name": "stdout",
          "output_type": "stream",
          "text": [
            "Inside phone constructor\n",
            "Inside smartphone constructor\n",
            "Buying a smartphone\n"
          ]
        },
        {
          "ename": "AttributeError",
          "evalue": "'super' object has no attribute 'brand'",
          "output_type": "error",
          "traceback": [
            "\u001b[1;31m---------------------------------------------------------------------------\u001b[0m",
            "\u001b[1;31mAttributeError\u001b[0m                            Traceback (most recent call last)",
            "\u001b[1;32ma:\\Work Docs\\Data Analyst work\\Campus X\\08 Python OOP\\oop 03.ipynb Cell 28\u001b[0m line \u001b[0;36m3\n\u001b[0;32m     <a href='vscode-notebook-cell:/a%3A/Work%20Docs/Data%20Analyst%20work/Campus%20X/08%20Python%20OOP/oop%2003.ipynb#Y115sZmlsZQ%3D%3D?line=27'>28</a>\u001b[0m         \u001b[39mprint\u001b[39m(\u001b[39msuper\u001b[39m()\u001b[39m.\u001b[39mbrand)\n\u001b[0;32m     <a href='vscode-notebook-cell:/a%3A/Work%20Docs/Data%20Analyst%20work/Campus%20X/08%20Python%20OOP/oop%2003.ipynb#Y115sZmlsZQ%3D%3D?line=29'>30</a>\u001b[0m s\u001b[39m=\u001b[39mSmartPhone(\u001b[39m20000\u001b[39m, \u001b[39m\"\u001b[39m\u001b[39mApple\u001b[39m\u001b[39m\"\u001b[39m, \u001b[39m13\u001b[39m, \u001b[39m'\u001b[39m\u001b[39mAndroid\u001b[39m\u001b[39m'\u001b[39m, \u001b[39m32\u001b[39m)\n\u001b[1;32m---> <a href='vscode-notebook-cell:/a%3A/Work%20Docs/Data%20Analyst%20work/Campus%20X/08%20Python%20OOP/oop%2003.ipynb#Y115sZmlsZQ%3D%3D?line=31'>32</a>\u001b[0m s\u001b[39m.\u001b[39;49mbuy()\n\u001b[0;32m     <a href='vscode-notebook-cell:/a%3A/Work%20Docs/Data%20Analyst%20work/Campus%20X/08%20Python%20OOP/oop%2003.ipynb#Y115sZmlsZQ%3D%3D?line=32'>33</a>\u001b[0m \u001b[39mprint\u001b[39m(s\u001b[39m.\u001b[39mos)\n\u001b[0;32m     <a href='vscode-notebook-cell:/a%3A/Work%20Docs/Data%20Analyst%20work/Campus%20X/08%20Python%20OOP/oop%2003.ipynb#Y115sZmlsZQ%3D%3D?line=33'>34</a>\u001b[0m \u001b[39mprint\u001b[39m(s\u001b[39m.\u001b[39mram)\n",
            "\u001b[1;32ma:\\Work Docs\\Data Analyst work\\Campus X\\08 Python OOP\\oop 03.ipynb Cell 28\u001b[0m line \u001b[0;36m2\n\u001b[0;32m     <a href='vscode-notebook-cell:/a%3A/Work%20Docs/Data%20Analyst%20work/Campus%20X/08%20Python%20OOP/oop%2003.ipynb#Y115sZmlsZQ%3D%3D?line=25'>26</a>\u001b[0m \u001b[39mprint\u001b[39m (\u001b[39m\"\u001b[39m\u001b[39mBuying a smartphone\u001b[39m\u001b[39m\"\u001b[39m)\n\u001b[0;32m     <a href='vscode-notebook-cell:/a%3A/Work%20Docs/Data%20Analyst%20work/Campus%20X/08%20Python%20OOP/oop%2003.ipynb#Y115sZmlsZQ%3D%3D?line=26'>27</a>\u001b[0m \u001b[39m# syntax to call parent ka buy method\u001b[39;00m\n\u001b[1;32m---> <a href='vscode-notebook-cell:/a%3A/Work%20Docs/Data%20Analyst%20work/Campus%20X/08%20Python%20OOP/oop%2003.ipynb#Y115sZmlsZQ%3D%3D?line=27'>28</a>\u001b[0m \u001b[39mprint\u001b[39m(\u001b[39msuper\u001b[39;49m()\u001b[39m.\u001b[39;49mbrand)\n",
            "\u001b[1;31mAttributeError\u001b[0m: 'super' object has no attribute 'brand'"
          ]
        }
      ],
      "source": [
        "# uper -> constructor\n",
        "class Phone:\n",
        "    def __init__(self, price, brand, camera):\n",
        "        print (\"Inside phone constructor\")\n",
        "        self.__price = price\n",
        "        self.brand = brand\n",
        "        self.camera = camera\n",
        "\n",
        "    def buy(self):\n",
        "        print (\"Buying a phone\")\n",
        "\n",
        "class SmartPhone(Phone):\n",
        "\n",
        "    def __init__(self, price, brand, camera, os, ram):\n",
        "\n",
        "        super().__init__(price,brand,camera)\n",
        "        \n",
        "        self.os = os\n",
        "        self.ram = ram\n",
        "        print('Inside smartphone constructor')\n",
        "\n",
        "\n",
        "\n",
        "\n",
        "    def buy(self):\n",
        "        print (\"Buying a smartphone\")\n",
        "        # syntax to call parent ka buy method\n",
        "        print(super().brand)\n",
        "\n",
        "s=SmartPhone(20000, \"Apple\", 13, 'Android', 32)\n",
        "\n",
        "s.buy()\n",
        "print(s.os)\n",
        "print(s.ram)\n",
        "print(s.brand)"
      ]
    },
    {
      "cell_type": "code",
      "execution_count": null,
      "metadata": {},
      "outputs": [],
      "source": []
    },
    {
      "cell_type": "code",
      "execution_count": null,
      "metadata": {},
      "outputs": [],
      "source": []
    },
    {
      "cell_type": "code",
      "execution_count": null,
      "metadata": {},
      "outputs": [],
      "source": []
    },
    {
      "cell_type": "markdown",
      "metadata": {
        "id": "_YE_kj_0Ufe4"
      },
      "source": [
        "##### Inheritance in summary\n",
        "\n",
        "- A class can inherit from another class.\n",
        "\n",
        "- Inheritance improves code reuse\n",
        "\n",
        "- Constructor, attributes, methods get inherited to the child class\n",
        "\n",
        "- The parent has no access to the child class\n",
        "\n",
        "- Private properties of parent are not accessible directly in child class\n",
        "\n",
        "- Child class can override the attributes or methods. This is called method overriding\n",
        "\n",
        "- super() is an inbuilt function which is used to invoke the parent class methods and constructor"
      ]
    },
    {
      "cell_type": "code",
      "execution_count": 59,
      "metadata": {
        "colab": {
          "base_uri": "https://localhost:8080/"
        },
        "id": "iHFjwJtBUuK3",
        "outputId": "0fc43374-9b51-498d-d1ba-12defba202f3"
      },
      "outputs": [
        {
          "name": "stdout",
          "output_type": "stream",
          "text": [
            "100\n",
            "200\n"
          ]
        }
      ],
      "source": [
        "class Parent:\n",
        "\n",
        "    def __init__(self,num):\n",
        "      self.__num=num\n",
        "\n",
        "    def get_num(self):\n",
        "      return self.__num\n",
        "\n",
        "class Child(Parent):\n",
        "\n",
        "    def __init__(self,num,val):\n",
        "      super().__init__(num)\n",
        "      self.__val=val\n",
        "\n",
        "    def get_val(self):\n",
        "      return self.__val\n",
        "\n",
        "son=Child(100,200)\n",
        "print(son.get_num())\n",
        "print(son.get_val())"
      ]
    },
    {
      "cell_type": "code",
      "execution_count": null,
      "metadata": {
        "colab": {
          "base_uri": "https://localhost:8080/"
        },
        "id": "szLznZ0bUvRj",
        "outputId": "0306224c-7467-420d-dbdb-d13e2c4e6a05"
      },
      "outputs": [
        {
          "name": "stdout",
          "output_type": "stream",
          "text": [
            "100\n",
            "200\n"
          ]
        }
      ],
      "source": [
        "class Parent:\n",
        "    def __init__(self):\n",
        "        self.num=100\n",
        "\n",
        "class Child(Parent):\n",
        "\n",
        "    def __init__(self):\n",
        "        super().__init__()\n",
        "        self.var=200\n",
        "\n",
        "    def show(self):\n",
        "        print(self.num)\n",
        "        print(self.var)\n",
        "\n",
        "son=Child()\n",
        "son.show()"
      ]
    },
    {
      "cell_type": "code",
      "execution_count": 60,
      "metadata": {
        "colab": {
          "base_uri": "https://localhost:8080/"
        },
        "id": "1v9P77SdU5z9",
        "outputId": "d81815d0-a87f-4335-d486-744e6c5e239d"
      },
      "outputs": [
        {
          "name": "stdout",
          "output_type": "stream",
          "text": [
            "Child: 10\n"
          ]
        }
      ],
      "source": [
        "class Parent:\n",
        "    def __init__(self):\n",
        "        self.__num=100\n",
        "\n",
        "    def show(self):\n",
        "        print(\"Parent:\",self.__num)\n",
        "\n",
        "class Child(Parent):\n",
        "    def __init__(self):\n",
        "        super().__init__()\n",
        "        self.__var=10\n",
        "\n",
        "    def show(self):\n",
        "        print(\"Child:\",self.__var)\n",
        "\n",
        "obj=Child()\n",
        "obj.show()"
      ]
    },
    {
      "cell_type": "code",
      "execution_count": 61,
      "metadata": {
        "colab": {
          "base_uri": "https://localhost:8080/"
        },
        "id": "nc1DNBfxU6fc",
        "outputId": "6d7a25b3-a25f-42c0-a9d7-60cc7de72412"
      },
      "outputs": [
        {
          "name": "stdout",
          "output_type": "stream",
          "text": [
            "Child: 10\n"
          ]
        }
      ],
      "source": [
        "class Parent:\n",
        "    def __init__(self):\n",
        "        self.__num=100\n",
        "\n",
        "    def show(self):\n",
        "        print(\"Parent:\",self.__num)\n",
        "\n",
        "class Child(Parent):\n",
        "    def __init__(self):\n",
        "        super().__init__()\n",
        "        self.__var=10\n",
        "\n",
        "    def show(self):\n",
        "        print(\"Child:\",self.__var)\n",
        "\n",
        "obj=Child()\n",
        "obj.show()"
      ]
    },
    {
      "cell_type": "markdown",
      "metadata": {
        "id": "q9WZMWV18G4Q"
      },
      "source": [
        "### Types of Inheritance\n",
        "\n",
        "- Single Inheritance\n",
        "- Multilevel Inheritance\n",
        "- Hierarchical Inheritance\n",
        "- Multiple Inheritance(Diamond Problem)\n",
        "- Hybrid Inheritance"
      ]
    },
    {
      "cell_type": "code",
      "execution_count": 62,
      "metadata": {
        "colab": {
          "base_uri": "https://localhost:8080/"
        },
        "id": "OehIWuKS8JZm",
        "outputId": "69dde2a0-8b7e-49fd-f7a7-e86f4c2261e1"
      },
      "outputs": [
        {
          "name": "stdout",
          "output_type": "stream",
          "text": [
            "Inside phone constructor\n",
            "Buying a phone\n"
          ]
        }
      ],
      "source": [
        "# single inheritance\n",
        "class Phone:\n",
        "    def __init__(self, price, brand, camera):\n",
        "        print (\"Inside phone constructor\")\n",
        "        self.__price = price\n",
        "        self.brand = brand\n",
        "        self.camera = camera\n",
        "\n",
        "    def buy(self):\n",
        "        print (\"Buying a phone\")\n",
        "\n",
        "class SmartPhone(Phone):\n",
        "    pass\n",
        "\n",
        "SmartPhone(1000,\"Apple\",\"13px\").buy()"
      ]
    },
    {
      "cell_type": "code",
      "execution_count": null,
      "metadata": {
        "colab": {
          "base_uri": "https://localhost:8080/"
        },
        "id": "jGcAw7QtV1vN",
        "outputId": "9800414e-1785-4f14-9a1d-514fb3f03b39"
      },
      "outputs": [
        {
          "name": "stdout",
          "output_type": "stream",
          "text": [
            "Inside phone constructor\n",
            "Buying a phone\n",
            "Product customer review\n"
          ]
        }
      ],
      "source": [
        "# multilevel\n",
        "class Product:\n",
        "    def review(self):\n",
        "        print (\"Product customer review\")\n",
        "\n",
        "class Phone(Product):\n",
        "    def __init__(self, price, brand, camera):\n",
        "        print (\"Inside phone constructor\")\n",
        "        self.__price = price\n",
        "        self.brand = brand\n",
        "        self.camera = camera\n",
        "\n",
        "    def buy(self):\n",
        "        print (\"Buying a phone\")\n",
        "\n",
        "class SmartPhone(Phone):\n",
        "    pass\n",
        "\n",
        "s=SmartPhone(20000, \"Apple\", 12)\n",
        "\n",
        "s.buy()\n",
        "s.review()"
      ]
    },
    {
      "cell_type": "code",
      "execution_count": null,
      "metadata": {
        "colab": {
          "base_uri": "https://localhost:8080/"
        },
        "id": "axM6rE1HWA2d",
        "outputId": "0a5896e9-8301-4be2-8b2e-599354183b64"
      },
      "outputs": [
        {
          "name": "stdout",
          "output_type": "stream",
          "text": [
            "Inside phone constructor\n",
            "Buying a phone\n",
            "Inside phone constructor\n",
            "Buying a phone\n"
          ]
        }
      ],
      "source": [
        "# Hierarchical\n",
        "class Phone:\n",
        "    def __init__(self, price, brand, camera):\n",
        "        print (\"Inside phone constructor\")\n",
        "        self.__price = price\n",
        "        self.brand = brand\n",
        "        self.camera = camera\n",
        "\n",
        "    def buy(self):\n",
        "        print (\"Buying a phone\")\n",
        "\n",
        "class SmartPhone(Phone):\n",
        "    pass\n",
        "\n",
        "class FeaturePhone(Phone):\n",
        "    pass\n",
        "\n",
        "SmartPhone(1000,\"Apple\",\"13px\").buy()\n",
        "FeaturePhone(10,\"Lava\",\"1px\").buy()"
      ]
    },
    {
      "cell_type": "code",
      "execution_count": null,
      "metadata": {
        "colab": {
          "base_uri": "https://localhost:8080/"
        },
        "id": "MPY34iq8WWGw",
        "outputId": "58b6e426-a8ba-4a9e-c997-a1a65a768de2"
      },
      "outputs": [
        {
          "name": "stdout",
          "output_type": "stream",
          "text": [
            "Inside phone constructor\n",
            "Buying a phone\n",
            "Customer review\n"
          ]
        }
      ],
      "source": [
        "# Multiple\n",
        "class Phone:\n",
        "    def __init__(self, price, brand, camera):\n",
        "        print (\"Inside phone constructor\")\n",
        "        self.__price = price\n",
        "        self.brand = brand\n",
        "        self.camera = camera\n",
        "\n",
        "    def buy(self):\n",
        "        print (\"Buying a phone\")\n",
        "\n",
        "class Product:\n",
        "    def review(self):\n",
        "        print (\"Customer review\")\n",
        "\n",
        "class SmartPhone(Phone, Product):\n",
        "    pass\n",
        "\n",
        "s=SmartPhone(20000, \"Apple\", 12)\n",
        "\n",
        "s.buy()\n",
        "s.review()\n"
      ]
    },
    {
      "cell_type": "code",
      "execution_count": 63,
      "metadata": {
        "colab": {
          "base_uri": "https://localhost:8080/"
        },
        "id": "I2ixigsSWagF",
        "outputId": "ecde3fef-f9a7-469e-b0c4-ff0ef60d3b3b"
      },
      "outputs": [
        {
          "name": "stdout",
          "output_type": "stream",
          "text": [
            "Inside phone constructor\n",
            "Buying a phone\n"
          ]
        }
      ],
      "source": [
        "# the diamond problem\n",
        "# https://stackoverflow.com/questions/56361048/what-is-the-diamond-problem-in-python-and-why-its-not-appear-in-python2\n",
        "class Phone:\n",
        "    def __init__(self, price, brand, camera):\n",
        "        print (\"Inside phone constructor\")\n",
        "        self.__price = price\n",
        "        self.brand = brand\n",
        "        self.camera = camera\n",
        "\n",
        "    def buy(self):\n",
        "        print (\"Buying a phone\")\n",
        "\n",
        "class Product:\n",
        "    def buy(self):\n",
        "        print (\"Product buy method\")\n",
        "\n",
        "# Method resolution order\n",
        "class SmartPhone(Phone,Product):\n",
        "    pass\n",
        "\n",
        "s=SmartPhone(20000, \"Apple\", 12)\n",
        "\n",
        "s.buy()"
      ]
    },
    {
      "cell_type": "code",
      "execution_count": 65,
      "metadata": {
        "colab": {
          "base_uri": "https://localhost:8080/"
        },
        "id": "sA_UVGoRWr7W",
        "outputId": "e71fe50b-c725-4c5f-a1d0-0dbc186fcfd0"
      },
      "outputs": [
        {
          "name": "stdout",
          "output_type": "stream",
          "text": [
            "70\n"
          ]
        }
      ],
      "source": [
        "class A:\n",
        "\n",
        "    def m1(self):\n",
        "        return 20\n",
        "\n",
        "class B(A):\n",
        "\n",
        "    def m1(self):\n",
        "        return 30\n",
        "\n",
        "    def m2(self):\n",
        "        return 40\n",
        "\n",
        "class C(B):\n",
        "\n",
        "    def m2(self):\n",
        "        return 20\n",
        "obj1=A()\n",
        "obj2=B()\n",
        "obj3=C()\n",
        "print(obj1.m1() + obj3.m1()+ obj3.m2())"
      ]
    },
    {
      "cell_type": "code",
      "execution_count": null,
      "metadata": {
        "colab": {
          "base_uri": "https://localhost:8080/",
          "height": 390
        },
        "id": "ogbluGw-Wu3c",
        "outputId": "a08d2384-c4c3-4bd7-b7ac-896b22d98711"
      },
      "outputs": [
        {
          "ename": "RecursionError",
          "evalue": "ignored",
          "output_type": "error",
          "traceback": [
            "\u001b[0;31m---------------------------------------------------------------------------\u001b[0m",
            "\u001b[0;31mRecursionError\u001b[0m                            Traceback (most recent call last)",
            "\u001b[0;32m<ipython-input-56-bb3659d52487>\u001b[0m in \u001b[0;36m<module>\u001b[0;34m\u001b[0m\n\u001b[1;32m     16\u001b[0m         \u001b[0;32mreturn\u001b[0m \u001b[0mval\u001b[0m\u001b[0;34m\u001b[0m\u001b[0;34m\u001b[0m\u001b[0m\n\u001b[1;32m     17\u001b[0m \u001b[0mobj\u001b[0m\u001b[0;34m=\u001b[0m\u001b[0mC\u001b[0m\u001b[0;34m(\u001b[0m\u001b[0;34m)\u001b[0m\u001b[0;34m\u001b[0m\u001b[0;34m\u001b[0m\u001b[0m\n\u001b[0;32m---> 18\u001b[0;31m \u001b[0mprint\u001b[0m\u001b[0;34m(\u001b[0m\u001b[0mobj\u001b[0m\u001b[0;34m.\u001b[0m\u001b[0mm1\u001b[0m\u001b[0;34m(\u001b[0m\u001b[0;34m)\u001b[0m\u001b[0;34m)\u001b[0m\u001b[0;34m\u001b[0m\u001b[0;34m\u001b[0m\u001b[0m\n\u001b[0m",
            "\u001b[0;32m<ipython-input-56-bb3659d52487>\u001b[0m in \u001b[0;36mm1\u001b[0;34m(self)\u001b[0m\n\u001b[1;32m     13\u001b[0m \u001b[0;34m\u001b[0m\u001b[0m\n\u001b[1;32m     14\u001b[0m     \u001b[0;32mdef\u001b[0m \u001b[0mm1\u001b[0m\u001b[0;34m(\u001b[0m\u001b[0mself\u001b[0m\u001b[0;34m)\u001b[0m\u001b[0;34m:\u001b[0m\u001b[0;34m\u001b[0m\u001b[0;34m\u001b[0m\u001b[0m\n\u001b[0;32m---> 15\u001b[0;31m         \u001b[0mval\u001b[0m\u001b[0;34m=\u001b[0m\u001b[0mself\u001b[0m\u001b[0;34m.\u001b[0m\u001b[0mm1\u001b[0m\u001b[0;34m(\u001b[0m\u001b[0;34m)\u001b[0m\u001b[0;34m+\u001b[0m\u001b[0;36m20\u001b[0m\u001b[0;34m\u001b[0m\u001b[0;34m\u001b[0m\u001b[0m\n\u001b[0m\u001b[1;32m     16\u001b[0m         \u001b[0;32mreturn\u001b[0m \u001b[0mval\u001b[0m\u001b[0;34m\u001b[0m\u001b[0;34m\u001b[0m\u001b[0m\n\u001b[1;32m     17\u001b[0m \u001b[0mobj\u001b[0m\u001b[0;34m=\u001b[0m\u001b[0mC\u001b[0m\u001b[0;34m(\u001b[0m\u001b[0;34m)\u001b[0m\u001b[0;34m\u001b[0m\u001b[0;34m\u001b[0m\u001b[0m\n",
            "... last 1 frames repeated, from the frame below ...\n",
            "\u001b[0;32m<ipython-input-56-bb3659d52487>\u001b[0m in \u001b[0;36mm1\u001b[0;34m(self)\u001b[0m\n\u001b[1;32m     13\u001b[0m \u001b[0;34m\u001b[0m\u001b[0m\n\u001b[1;32m     14\u001b[0m     \u001b[0;32mdef\u001b[0m \u001b[0mm1\u001b[0m\u001b[0;34m(\u001b[0m\u001b[0mself\u001b[0m\u001b[0;34m)\u001b[0m\u001b[0;34m:\u001b[0m\u001b[0;34m\u001b[0m\u001b[0;34m\u001b[0m\u001b[0m\n\u001b[0;32m---> 15\u001b[0;31m         \u001b[0mval\u001b[0m\u001b[0;34m=\u001b[0m\u001b[0mself\u001b[0m\u001b[0;34m.\u001b[0m\u001b[0mm1\u001b[0m\u001b[0;34m(\u001b[0m\u001b[0;34m)\u001b[0m\u001b[0;34m+\u001b[0m\u001b[0;36m20\u001b[0m\u001b[0;34m\u001b[0m\u001b[0;34m\u001b[0m\u001b[0m\n\u001b[0m\u001b[1;32m     16\u001b[0m         \u001b[0;32mreturn\u001b[0m \u001b[0mval\u001b[0m\u001b[0;34m\u001b[0m\u001b[0;34m\u001b[0m\u001b[0m\n\u001b[1;32m     17\u001b[0m \u001b[0mobj\u001b[0m\u001b[0;34m=\u001b[0m\u001b[0mC\u001b[0m\u001b[0;34m(\u001b[0m\u001b[0;34m)\u001b[0m\u001b[0;34m\u001b[0m\u001b[0;34m\u001b[0m\u001b[0m\n",
            "\u001b[0;31mRecursionError\u001b[0m: maximum recursion depth exceeded"
          ]
        }
      ],
      "source": [
        "class A:\n",
        "\n",
        "    def m1(self):\n",
        "        return 20\n",
        "\n",
        "class B(A):\n",
        "\n",
        "    def m1(self):\n",
        "        val=super().m1()+30\n",
        "        return val\n",
        "\n",
        "class C(B):\n",
        "\n",
        "    def m1(self):\n",
        "        val=self.m1()+20\n",
        "        return val\n",
        "obj=C()\n",
        "print(obj.m1())"
      ]
    },
    {
      "cell_type": "markdown",
      "metadata": {
        "id": "TvZX-Zw9FtKB"
      },
      "source": [
        "### Polymorphism\n",
        "\n",
        "- Method Overriding\n",
        "- Method Overloading\n",
        "- Operator Overloading"
      ]
    },
    {
      "cell_type": "code",
      "execution_count": 66,
      "metadata": {
        "colab": {
          "base_uri": "https://localhost:8080/"
        },
        "id": "wuVzSLONF0ha",
        "outputId": "c0ef3d86-9a4b-4d2f-f6b4-2ca8b7d42764"
      },
      "outputs": [],
      "source": [
        "# method overloading does not work in python it work in java\n",
        "class Shape:\n",
        "      \n",
        "    def area(self, radius):\n",
        "        return 3.14*radius*radius\n",
        "\n",
        "    def area(self, a,b):\n",
        "        return a*b"
      ]
    },
    {
      "cell_type": "code",
      "execution_count": 70,
      "metadata": {},
      "outputs": [
        {
          "data": {
            "text/plain": [
              "20"
            ]
          },
          "execution_count": 70,
          "metadata": {},
          "output_type": "execute_result"
        }
      ],
      "source": [
        "ractangle=Shape()\n",
        "ractangle.area(4,5)"
      ]
    },
    {
      "cell_type": "code",
      "execution_count": 71,
      "metadata": {},
      "outputs": [
        {
          "ename": "TypeError",
          "evalue": "Shape.area() missing 1 required positional argument: 'b'",
          "output_type": "error",
          "traceback": [
            "\u001b[1;31m---------------------------------------------------------------------------\u001b[0m",
            "\u001b[1;31mTypeError\u001b[0m                                 Traceback (most recent call last)",
            "\u001b[1;32ma:\\Work Docs\\Data Analyst work\\Campus X\\08 Python OOP\\oop 03.ipynb Cell 48\u001b[0m line \u001b[0;36m3\n\u001b[0;32m      <a href='vscode-notebook-cell:/a%3A/Work%20Docs/Data%20Analyst%20work/Campus%20X/08%20Python%20OOP/oop%2003.ipynb#Y120sZmlsZQ%3D%3D?line=0'>1</a>\u001b[0m circle\u001b[39m=\u001b[39mShape()\n\u001b[1;32m----> <a href='vscode-notebook-cell:/a%3A/Work%20Docs/Data%20Analyst%20work/Campus%20X/08%20Python%20OOP/oop%2003.ipynb#Y120sZmlsZQ%3D%3D?line=2'>3</a>\u001b[0m circle\u001b[39m.\u001b[39;49marea(\u001b[39m10\u001b[39;49m)\n",
            "\u001b[1;31mTypeError\u001b[0m: Shape.area() missing 1 required positional argument: 'b'"
          ]
        }
      ],
      "source": [
        "circle=Shape()\n",
        "\n",
        "circle.area(10)"
      ]
    },
    {
      "cell_type": "code",
      "execution_count": 75,
      "metadata": {},
      "outputs": [
        {
          "name": "stdout",
          "output_type": "stream",
          "text": [
            "3.14\n",
            "15\n"
          ]
        }
      ],
      "source": [
        "class Shape:\n",
        "    def area(self, a, b=0):\n",
        "        if b==0:\n",
        "            return 3.14*a*a\n",
        "        else:\n",
        "            return a*b\n",
        "        \n",
        "s=Shape()\n",
        "print(s.area(1))\n",
        "print(s.area(3,5))"
      ]
    },
    {
      "cell_type": "code",
      "execution_count": 76,
      "metadata": {},
      "outputs": [],
      "source": [
        "# Operator Overloading- same operator doing different operations depending on input and situation\n",
        "\n"
      ]
    },
    {
      "cell_type": "code",
      "execution_count": 79,
      "metadata": {
        "colab": {
          "base_uri": "https://localhost:8080/",
          "height": 36
        },
        "id": "3-SJbwpMXE4J",
        "outputId": "1fb14d61-32b2-4267-e997-edbd98de1c22"
      },
      "outputs": [
        {
          "data": {
            "text/plain": [
              "'helloworld'"
            ]
          },
          "execution_count": 79,
          "metadata": {},
          "output_type": "execute_result"
        }
      ],
      "source": [
        "# + operator cocating\n",
        "'hello' + 'world'"
      ]
    },
    {
      "cell_type": "code",
      "execution_count": 78,
      "metadata": {
        "colab": {
          "base_uri": "https://localhost:8080/"
        },
        "id": "XIhrt6ffXFOq",
        "outputId": "5936ff62-3649-470b-8080-27e0932d795c"
      },
      "outputs": [
        {
          "data": {
            "text/plain": [
              "9"
            ]
          },
          "execution_count": 78,
          "metadata": {},
          "output_type": "execute_result"
        }
      ],
      "source": [
        "# + Operator adding\n",
        "4 + 5"
      ]
    },
    {
      "cell_type": "code",
      "execution_count": 77,
      "metadata": {
        "colab": {
          "base_uri": "https://localhost:8080/"
        },
        "id": "ykLFszsHfrKi",
        "outputId": "b6dce7af-c9d9-4414-bd3e-dbdacc9df9e1"
      },
      "outputs": [
        {
          "data": {
            "text/plain": [
              "[1, 2, 3, 4, 5]"
            ]
          },
          "execution_count": 77,
          "metadata": {},
          "output_type": "execute_result"
        }
      ],
      "source": [
        "# + Operator- Merging\n",
        "[1,2,3] + [4,5]"
      ]
    },
    {
      "cell_type": "markdown",
      "metadata": {
        "id": "FHZlflrSF1Df"
      },
      "source": [
        "### Abstraction"
      ]
    },
    {
      "cell_type": "code",
      "execution_count": 81,
      "metadata": {},
      "outputs": [],
      "source": [
        "from abc import ABC, abstractmethod\n",
        "\n",
        "class BankApp(ABC):\n",
        "\n",
        "    def database(self):\n",
        "        print('connected to database')\n",
        "\n",
        "    @abstractmethod\n",
        "    def security(self):\n",
        "        pass\n",
        "\n"
      ]
    },
    {
      "cell_type": "code",
      "execution_count": 84,
      "metadata": {},
      "outputs": [],
      "source": [
        "class MobileApp(BankApp):\n",
        "\n",
        "    def mobile_login(self):\n",
        "        print('Login to mobile')\n",
        "\n",
        "    def security(self):\n",
        "        print('mobile security')\n",
        "    "
      ]
    },
    {
      "cell_type": "code",
      "execution_count": 85,
      "metadata": {},
      "outputs": [],
      "source": [
        "mob=MobileApp()"
      ]
    },
    {
      "cell_type": "code",
      "execution_count": null,
      "metadata": {
        "id": "EFrfU_45F2wx"
      },
      "outputs": [],
      "source": [
        "from abc import ABC,abstractmethod\n",
        "class BankApp(ABC):\n",
        "\n",
        "  def database(self):\n",
        "    print('connected to database')\n",
        "\n",
        "  @abstractmethod\n",
        "  def security(self):\n",
        "    pass\n",
        "\n",
        "  @abstractmethod\n",
        "  def display(self):\n",
        "    pass\n"
      ]
    },
    {
      "cell_type": "code",
      "execution_count": null,
      "metadata": {
        "id": "_KULGDqYxtwk"
      },
      "outputs": [],
      "source": [
        "class MobileApp(BankApp):\n",
        "\n",
        "  def mobile_login(self):\n",
        "    print('login into mobile')\n",
        "\n",
        "  def security(self):\n",
        "    print('mobile security')\n"
      ]
    },
    {
      "cell_type": "code",
      "execution_count": null,
      "metadata": {
        "id": "WlGxjLHz6J94"
      },
      "outputs": [],
      "source": [
        "mob = MobileApp()"
      ]
    },
    {
      "cell_type": "code",
      "execution_count": null,
      "metadata": {
        "colab": {
          "base_uri": "https://localhost:8080/"
        },
        "id": "e-ygxfhV6MR9",
        "outputId": "93969604-41c2-4966-d322-ffaadcd85e4f"
      },
      "outputs": [
        {
          "name": "stdout",
          "output_type": "stream",
          "text": [
            "mobile security\n"
          ]
        }
      ],
      "source": [
        "mob.security()"
      ]
    },
    {
      "cell_type": "code",
      "execution_count": null,
      "metadata": {
        "colab": {
          "base_uri": "https://localhost:8080/",
          "height": 169
        },
        "id": "hvVMYalv6v3j",
        "outputId": "2809badf-e568-4a87-ddfb-1f64d944900d"
      },
      "outputs": [
        {
          "ename": "TypeError",
          "evalue": "ignored",
          "output_type": "error",
          "traceback": [
            "\u001b[0;31m---------------------------------------------------------------------------\u001b[0m",
            "\u001b[0;31mTypeError\u001b[0m                                 Traceback (most recent call last)",
            "\u001b[0;32m<ipython-input-24-0aa75fd04378>\u001b[0m in \u001b[0;36m<module>\u001b[0;34m\u001b[0m\n\u001b[0;32m----> 1\u001b[0;31m \u001b[0mobj\u001b[0m \u001b[0;34m=\u001b[0m \u001b[0mBankApp\u001b[0m\u001b[0;34m(\u001b[0m\u001b[0;34m)\u001b[0m\u001b[0;34m\u001b[0m\u001b[0;34m\u001b[0m\u001b[0m\n\u001b[0m",
            "\u001b[0;31mTypeError\u001b[0m: Can't instantiate abstract class BankApp with abstract methods display, security"
          ]
        }
      ],
      "source": [
        "obj = BankApp()"
      ]
    },
    {
      "cell_type": "code",
      "execution_count": null,
      "metadata": {
        "id": "OvdixiRJ7kDn"
      },
      "outputs": [],
      "source": []
    }
  ],
  "metadata": {
    "colab": {
      "provenance": []
    },
    "kernelspec": {
      "display_name": "Python 3",
      "name": "python3"
    },
    "language_info": {
      "codemirror_mode": {
        "name": "ipython",
        "version": 3
      },
      "file_extension": ".py",
      "mimetype": "text/x-python",
      "name": "python",
      "nbconvert_exporter": "python",
      "pygments_lexer": "ipython3",
      "version": "3.11.4"
    }
  },
  "nbformat": 4,
  "nbformat_minor": 0
}
